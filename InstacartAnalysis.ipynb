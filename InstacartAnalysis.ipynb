{
 "cells": [
  {
   "cell_type": "code",
   "execution_count": 1,
   "metadata": {
    "collapsed": true
   },
   "outputs": [],
   "source": [
    "import numpy as np\n",
    "import pandas as pd\n",
    "import matplotlib.pyplot as plt\n",
    "import matplotlib.style as style\n",
    "import seaborn as sns\n",
    "style.use(\"fivethirtyeight\")\n",
    "%matplotlib inline\n",
    "import sqlite3 as sql"
   ]
  },
  {
   "cell_type": "code",
   "execution_count": 2,
   "metadata": {
    "collapsed": true
   },
   "outputs": [],
   "source": [
    "conn = sql.connect(\"instacart.db\")\n",
    "c = conn.cursor()"
   ]
  },
  {
   "cell_type": "code",
   "execution_count": 14,
   "metadata": {},
   "outputs": [
    {
     "name": "stdout",
     "output_type": "stream",
     "text": [
      "[(0, 72971), (1, 71582), (2, 56404), (3, 53205), (4, 51551), (5, 54903), (6, 54156)]\n"
     ]
    }
   ],
   "source": [
    "orders_by_dow_q = \"SELECT order_dow, COUNT(*) FROM orders GROUP BY order_dow\"\n",
    "c.execute(orders_by_dow_q)\n",
    "orders_dow = c.fetchall()\n",
    "print(orders_dow)"
   ]
  },
  {
   "cell_type": "code",
   "execution_count": 15,
   "metadata": {},
   "outputs": [
    {
     "data": {
      "text/plain": [
       "[('Mon', 72971),\n",
       " ('Tue', 71582),\n",
       " ('Wed', 56404),\n",
       " ('Thu', 53205),\n",
       " ('Fri', 51551),\n",
       " ('Sat', 54903),\n",
       " ('Sun', 54156)]"
      ]
     },
     "execution_count": 15,
     "metadata": {},
     "output_type": "execute_result"
    }
   ],
   "source": [
    "day_week = {0:\"Mon\", 1:\"Tue\", 2:\"Wed\", 3:\"Thu\", 4:\"Fri\", 5:\"Sat\", 6:\"Sun\"}\n",
    "orders_dow = [(day_week[tup[0]], tup[1]) for tup in orders_dow]\n",
    "orders_dow"
   ]
  },
  {
   "cell_type": "markdown",
   "metadata": {},
   "source": [
    "Here we investigate how the number of orders vary day the day of the week. The day of the week variable is a number from 0 to 6 and it is not clear exactly what these correspond to exactly. In the dataset, days 0 and 1 have the most orders so it is possible as these are days on the weekend. The other 5 days seem to have approximately equal numbers of orders."
   ]
  },
  {
   "cell_type": "code",
   "execution_count": 21,
   "metadata": {},
   "outputs": [
    {
     "data": {
      "text/plain": [
       "<matplotlib.text.Text at 0x18711672f28>"
      ]
     },
     "execution_count": 21,
     "metadata": {},
     "output_type": "execute_result"
    },
    {
     "data": {
      "image/png": "[encoded data removed]",
      "text/plain": [
       "<matplotlib.figure.Figure at 0x18710ce3c50>"
      ]
     },
     "metadata": {},
     "output_type": "display_data"
    }
   ],
   "source": [
    "plt.bar(range(len(orders_dow)), [tup[1] for tup in orders_dow])\n",
    "plt.xlabel(\"Day of Week\")\n",
    "plt.ylabel(\"Number of Orders\")\n",
    "plt.title(\"Number of Orders by Day of Week\")"
   ]
  },
  {
   "cell_type": "code",
   "execution_count": 23,
   "metadata": {},
   "outputs": [
    {
     "name": "stdout",
     "output_type": "stream",
     "text": [
      "[(0, 2771), (1, 1479), (2, 883), (3, 666), (4, 686), (5, 1200), (6, 3709), (7, 10990), (8, 21066), (9, 31282), (10, 34825), (11, 34425), (12, 32920), (13, 33794), (14, 34568), (15, 34528), (16, 32970), (17, 27736), (18, 22375), (19, 17099), (20, 12758), (21, 9402), (22, 7619), (23, 5021)]\n"
     ]
    }
   ],
   "source": [
    "orders_by_hour = \"SELECT order_hour_of_day, COUNT(*) FROM orders GROUP BY Order_hour_of_day\"\n",
    "c.execute(orders_by_hour)\n",
    "orders_hour = c.fetchall()\n",
    "print(orders_hour)"
   ]
  },
  {
   "cell_type": "markdown",
   "metadata": {},
   "source": [
    "This is a histogram of the number of orders placed by hour of the day. There are very few orders placed between midnight and 5 AM. The majority of orders are placed between 9 AM and 6 PM. "
   ]
  },
  {
   "cell_type": "code",
   "execution_count": 25,
   "metadata": {},
   "outputs": [
    {
     "data": {
      "text/plain": [
       "<matplotlib.text.Text at 0x187117839b0>"
      ]
     },
     "execution_count": 25,
     "metadata": {},
     "output_type": "execute_result"
    },
    {
     "data": {
      "image/png": "[encoded data removed]",
      "text/plain": [
       "<matplotlib.figure.Figure at 0x18711722b70>"
      ]
     },
     "metadata": {},
     "output_type": "display_data"
    }
   ],
   "source": [
    "plt.bar(range(len(orders_hour)), [tup[1] for tup in orders_hour])\n",
    "plt.xlabel(\"Hour of Day\")\n",
    "plt.ylabel(\"Number of Orders\")\n",
    "plt.title(\"Number of Orders by Hour of Day\")"
   ]
  },
  {
   "cell_type": "code",
   "execution_count": 26,
   "metadata": {
    "collapsed": true
   },
   "outputs": [],
   "source": [
    "between_orders_q = \"SELECT days_since_prior_order FROM orders\"\n",
    "c.execute(between_orders_q)\n",
    "between_orders = c.fetchall()"
   ]
  },
  {
   "cell_type": "markdown",
   "metadata": {},
   "source": [
    "This histogram below shows the distribution of the variable that measures days between orders. There is a spike at 7 days which lines up with the idea that many people shop for groceries on a weekly basis. There is also a peak at 30 days which needs to be investigated in more detail."
   ]
  },
  {
   "cell_type": "code",
   "execution_count": 32,
   "metadata": {
    "collapsed": true
   },
   "outputs": [],
   "source": [
    "between_orders = [time[0] for time in between_orders if time[0] is not None]"
   ]
  },
  {
   "cell_type": "code",
   "execution_count": 35,
   "metadata": {},
   "outputs": [
    {
     "data": {
      "text/plain": [
       "<matplotlib.text.Text at 0x187190f0b38>"
      ]
     },
     "execution_count": 35,
     "metadata": {},
     "output_type": "execute_result"
    },
    {
     "data": {
      "image/png": "[encoded data removed]",
      "text/plain": [
       "<matplotlib.figure.Figure at 0x187190c5518>"
      ]
     },
     "metadata": {},
     "output_type": "display_data"
    }
   ],
   "source": [
    "plt.hist(between_orders, bins=30)\n",
    "plt.xlabel(\"Days Between Orders\")\n",
    "plt.ylabel(\"Count\")"
   ]
  },
  {
   "cell_type": "markdown",
   "metadata": {},
   "source": [
    "Make a query that looks at the 20 most popular items based on the number of times it is ordered. It appears that fruit and vegetable items make up the majority of these most popular items. Organic milk and garlic are the non fruit/vegetable items in this list."
   ]
  },
  {
   "cell_type": "code",
   "execution_count": 52,
   "metadata": {},
   "outputs": [
    {
     "data": {
      "text/plain": [
       "<sqlite3.Cursor at 0x18711482490>"
      ]
     },
     "execution_count": 52,
     "metadata": {},
     "output_type": "execute_result"
    }
   ],
   "source": [
    "most_popular = \"SELECT o.count, p.product_name, p.product_id FROM \\\n",
    "                (SELECT COUNT(*) AS count, product_id FROM \\\n",
    "                order_products \\\n",
    "                GROUP BY product_id) AS o \\\n",
    "                LEFT JOIN products p \\\n",
    "                ON o.product_id = p.product_id\\\n",
    "                ORDER BY o.count DESC\\\n",
    "                LIMIT 20\"\n",
    "c.execute(most_popular)"
   ]
  },
  {
   "cell_type": "code",
   "execution_count": 53,
   "metadata": {},
   "outputs": [
    {
     "data": {
      "text/plain": [
       "[(58231, 'Banana', 24852),\n",
       " (45699, 'Bag of Organic Bananas', 13176),\n",
       " (32203, 'Organic Strawberries', 21137),\n",
       " (29380, 'Organic Baby Spinach', 21903),\n",
       " (25958, 'Organic Hass Avocado', 47209),\n",
       " (21642, 'Organic Avocado', 47766),\n",
       " (18581, 'Large Lemon', 47626),\n",
       " (17399, 'Limes', 26209),\n",
       " (17217, 'Strawberries', 16797),\n",
       " (16468, 'Organic Whole Milk', 27845),\n",
       " (16205, 'Organic Raspberries', 27966),\n",
       " (13355, 'Organic Yellow Onion', 22935),\n",
       " (13137, 'Organic Garlic', 24964),\n",
       " (12420, 'Organic Zucchini', 45007),\n",
       " (12022, 'Organic Blueberries', 39275),\n",
       " (11890, 'Cucumber Kirby', 49683),\n",
       " (10632, 'Organic Fuji Apple', 28204),\n",
       " (10258, 'Apple Honeycrisp Organic', 8277),\n",
       " (10249, 'Organic Grape Tomatoes', 40706),\n",
       " (10200, 'Organic Lemon', 5876)]"
      ]
     },
     "execution_count": 53,
     "metadata": {},
     "output_type": "execute_result"
    }
   ],
   "source": [
    "most_popular = c.fetchall()\n",
    "most_popular"
   ]
  },
  {
   "cell_type": "code",
   "execution_count": 35,
   "metadata": {
    "collapsed": true
   },
   "outputs": [],
   "source": [
    "def most_popular_hour(start, end):\n",
    "    \"\"\"Find the 20 most popular products within a given time frame.\"\"\"\n",
    "    most_popular = \"\"\"SELECT o.count, p.product_name, p.product_id FROM \n",
    "                (SELECT COUNT(*) AS count, product_id FROM \n",
    "                order_products o \n",
    "                LEFT JOIN orders s \n",
    "                ON o.order_id = s.order_id \n",
    "                WHERE s.order_hour_of_day BETWEEN %d AND %d \n",
    "                GROUP BY product_id) AS o \n",
    "                LEFT JOIN products p \n",
    "                ON o.product_id = p.product_id \n",
    "                ORDER BY o.count DESC\n",
    "                LIMIT 20\"\"\" % (start, end)\n",
    "    c.execute(most_popular)\n",
    "    popular_prods = c.fetchall()\n",
    "    return popular_prods"
   ]
  },
  {
   "cell_type": "markdown",
   "metadata": {},
   "source": [
    "It does not appear that the most popular items within a given hour or longer timeframe differ very much from the overall items that are popular. This was done to investigate if there were potential differences in which items were ordered frequently based on the time of day an order was placed. A number of time ranges were investigated and it did not seem that there was anything particularly interesting based on this."
   ]
  },
  {
   "cell_type": "code",
   "execution_count": 82,
   "metadata": {},
   "outputs": [
    {
     "data": {
      "text/plain": [
       "[(7870, 'Banana', 24852),\n",
       " (6163, 'Bag of Organic Bananas', 13176),\n",
       " (4284, 'Organic Strawberries', 21137),\n",
       " (3617, 'Organic Baby Spinach', 21903),\n",
       " (3251, 'Organic Hass Avocado', 47209),\n",
       " (2704, 'Organic Avocado', 47766),\n",
       " (2375, 'Strawberries', 16797),\n",
       " (2346, 'Organic Whole Milk', 27845),\n",
       " (2338, 'Large Lemon', 47626),\n",
       " (2178, 'Organic Raspberries', 27966),\n",
       " (2129, 'Limes', 26209),\n",
       " (1617, 'Organic Fuji Apple', 28204),\n",
       " (1585, 'Organic Yellow Onion', 22935),\n",
       " (1576, 'Organic Blueberries', 39275),\n",
       " (1468, 'Organic Garlic', 24964),\n",
       " (1468, 'Organic Zucchini', 45007),\n",
       " (1465, 'Apple Honeycrisp Organic', 8277),\n",
       " (1448, 'Organic Half & Half', 49235),\n",
       " (1439, 'Seedless Red Grapes', 4920),\n",
       " (1411, 'Cucumber Kirby', 49683)]"
      ]
     },
     "execution_count": 82,
     "metadata": {},
     "output_type": "execute_result"
    }
   ],
   "source": [
    "most_popular_hour(8, 9)"
   ]
  },
  {
   "cell_type": "code",
   "execution_count": 38,
   "metadata": {},
   "outputs": [
    {
     "data": {
      "text/plain": [
       "[(2598, 'Banana', 24852),\n",
       " (2136, 'Bag of Organic Bananas', 13176),\n",
       " (1658, 'Organic Strawberries', 21137),\n",
       " (1419, 'Organic Baby Spinach', 21903),\n",
       " (1144, 'Organic Hass Avocado', 47209),\n",
       " (1010, 'Organic Avocado', 47766),\n",
       " (886, 'Organic Whole Milk', 27845),\n",
       " (827, 'Organic Raspberries', 27966),\n",
       " (821, 'Strawberries', 16797),\n",
       " (808, 'Large Lemon', 47626),\n",
       " (710, 'Limes', 26209),\n",
       " (616, 'Organic Blueberries', 39275),\n",
       " (566, 'Organic Zucchini', 45007),\n",
       " (564, 'Organic Garlic', 24964),\n",
       " (555, 'Cucumber Kirby', 49683),\n",
       " (545, 'Organic Grape Tomatoes', 40706),\n",
       " (527, 'Organic Yellow Onion', 22935),\n",
       " (490, 'Seedless Red Grapes', 4920),\n",
       " (484, 'Carrots', 17794),\n",
       " (480, 'Organic Baby Carrots', 42265)]"
      ]
     },
     "execution_count": 38,
     "metadata": {},
     "output_type": "execute_result"
    }
   ],
   "source": [
    "most_popular_hour(21, 22)"
   ]
  },
  {
   "cell_type": "code",
   "execution_count": 83,
   "metadata": {
    "collapsed": true
   },
   "outputs": [],
   "source": [
    "def most_popular_day(day):\n",
    "    \"\"\"Find the 20 most popular products on a given day.\"\"\"\n",
    "    most_popular = \"\"\"SELECT o.count, p.product_name, p.product_id FROM \n",
    "                (SELECT COUNT(*) AS count, product_id FROM \n",
    "                order_products o \n",
    "                LEFT JOIN orders s \n",
    "                ON o.order_id = s.order_id \n",
    "                WHERE s.order_dow = %d \n",
    "                GROUP BY product_id) AS o \n",
    "                LEFT JOIN products p \n",
    "                ON o.product_id = p.product_id \n",
    "                ORDER BY o.count DESC\n",
    "                LIMIT 20\"\"\" % (day)\n",
    "    c.execute(most_popular)\n",
    "    popular_prods = c.fetchall()\n",
    "    return popular_prods"
   ]
  },
  {
   "cell_type": "code",
   "execution_count": 86,
   "metadata": {},
   "outputs": [
    {
     "data": {
      "text/plain": [
       "[(6587, 'Banana', 24852),\n",
       " (5491, 'Bag of Organic Bananas', 13176),\n",
       " (3643, 'Organic Strawberries', 21137),\n",
       " (3106, 'Organic Baby Spinach', 21903),\n",
       " (2983, 'Organic Hass Avocado', 47209),\n",
       " (2357, 'Organic Avocado', 47766),\n",
       " (2021, 'Organic Whole Milk', 27845),\n",
       " (1973, 'Strawberries', 16797),\n",
       " (1971, 'Large Lemon', 47626),\n",
       " (1889, 'Organic Raspberries', 27966),\n",
       " (1804, 'Limes', 26209),\n",
       " (1444, 'Organic Yellow Onion', 22935),\n",
       " (1414, 'Organic Blueberries', 39275),\n",
       " (1371, 'Organic Garlic', 24964),\n",
       " (1361, 'Organic Zucchini', 45007),\n",
       " (1241, 'Cucumber Kirby', 49683),\n",
       " (1201, 'Organic Fuji Apple', 28204),\n",
       " (1199, 'Seedless Red Grapes', 4920),\n",
       " (1187, 'Sparkling Water Grapefruit', 44632),\n",
       " (1182, 'Organic Half & Half', 49235)]"
      ]
     },
     "execution_count": 86,
     "metadata": {},
     "output_type": "execute_result"
    }
   ],
   "source": [
    "most_popular_day(3)"
   ]
  },
  {
   "cell_type": "markdown",
   "metadata": {},
   "source": [
    "This query below aims to look at the items that are reordered the most frequently"
   ]
  },
  {
   "cell_type": "code",
   "execution_count": 134,
   "metadata": {},
   "outputs": [
    {
     "data": {
      "text/plain": [
       "[(27402,\n",
       "  0.896969696969697,\n",
       "  165,\n",
       "  'Healthy Kids Organic Vanilla Nutritional Shake'),\n",
       " (34197, 0.8850698174006445, 931, 'Goat Milk'),\n",
       " (32911,\n",
       "  0.8831168831168831,\n",
       "  154,\n",
       "  'Organic Sensitivity Infant Formula with Iron'),\n",
       " (9292, 0.8782816229116945, 419, 'Half And Half Ultra Pasteurized'),\n",
       " (22537, 0.8742857142857143, 175, 'Hearty Nine Grain Bread'),\n",
       " (29500, 0.8717948717948718, 195, 'Hard-Boiled Eggs'),\n",
       " (43394, 0.8695286195286195, 1188, 'Organic Lactose Free Whole Milk'),\n",
       " (47943, 0.8691099476439791, 191, 'Unsweetened Terere Yerba Mate'),\n",
       " (2748, 0.8671532846715329, 685, 'Organic Reduced Fat Omega-3 Milk'),\n",
       " (29447, 0.8622710622710623, 2730, 'Milk, Organic, Vitamin D'),\n",
       " (38689, 0.859434360489658, 4738, 'Organic Reduced Fat Milk'),\n",
       " (14466, 0.8535031847133758, 157, 'Oat Chocolate Chip Coconut Whenever Bars'),\n",
       " (6066, 0.8525641025641025, 156, \"Mini Moo's Real Cream Half & Half\"),\n",
       " (23383, 0.8509316770186336, 322, 'Super Natural Organic Whole Milk'),\n",
       " (117, 0.8506375227686703, 549, 'Petit Suisse Fruit'),\n",
       " (13166, 0.8500960922485586, 1561, 'Organic Milk Reduced Fat, 2% Milkfat'),\n",
       " (24852, 0.8459411653586577, 58231, 'Banana'),\n",
       " (39180, 0.8445026178010471, 1910, 'Organic Lowfat 1% Milk'),\n",
       " (47611, 0.8405405405405405, 370, \"M&M's Vanilla Lowfat Yogurt\"),\n",
       " (14084, 0.8394842152067585, 2249, 'Organic Unsweetened Vanilla Almond Milk')]"
      ]
     },
     "execution_count": 134,
     "metadata": {},
     "output_type": "execute_result"
    }
   ],
   "source": [
    "reorder_q =  \"\"\"SELECT o.product_id, o.prop_reorder, o.count, p.product_name FROM\n",
    "            (SELECT COUNT(*) as count, AVG(reordered) as prop_reorder, product_id \n",
    "            FROM order_products\n",
    "            GROUP BY product_id) as o \n",
    "            LEFT JOIN products p\n",
    "            ON o.product_id = p.product_id\n",
    "            WHERE o.count > 150\n",
    "            ORDER BY o.prop_reorder DESC\n",
    "            LIMIT 20\"\"\"\n",
    "c.execute(reorder_q)\n",
    "top_reorder = c.fetchall()\n",
    "top_reorder"
   ]
  },
  {
   "cell_type": "code",
   "execution_count": 154,
   "metadata": {
    "collapsed": true
   },
   "outputs": [],
   "source": [
    "order_num_q = \"\"\"SELECT COUNT(*) as n, order_number\n",
    "                 FROM orders\n",
    "                 GROUP BY order_number\n",
    "                 ORDER BY order_number\n",
    "              \"\"\"\n",
    "c.execute(order_num_q)\n",
    "order_num = c.fetchall()"
   ]
  },
  {
   "cell_type": "markdown",
   "metadata": {},
   "source": [
    "There are a total of 25,000 unique users represented in the orders table. In the dataset, all users made at least 4 orders in the time frame. roughly 25% of these users made 20 or more orders."
   ]
  },
  {
   "cell_type": "code",
   "execution_count": 158,
   "metadata": {},
   "outputs": [
    {
     "data": {
      "text/plain": [
       "<matplotlib.text.Text at 0x1871501e5f8>"
      ]
     },
     "execution_count": 158,
     "metadata": {},
     "output_type": "execute_result"
    },
    {
     "data": {
      "image/png": "[encoded data removed]",
      "text/plain": [
       "<matplotlib.figure.Figure at 0x1871506c240>"
      ]
     },
     "metadata": {},
     "output_type": "display_data"
    }
   ],
   "source": [
    "plt.plot([tup[1] for tup in order_num], [tup[0] for tup in order_num])\n",
    "plt.xlabel(\"Order Number\")\n",
    "plt.ylabel(\"Count\")"
   ]
  },
  {
   "cell_type": "code",
   "execution_count": 161,
   "metadata": {},
   "outputs": [
    {
     "name": "stdout",
     "output_type": "stream",
     "text": [
      "There are 25000 distinct users in the orders table.\n"
     ]
    }
   ],
   "source": [
    "c.execute(\"SELECT COUNT(DISTINCT user_id) FROM orders\")\n",
    "num_uniq_users = c.fetchall()\n",
    "print(\"There are %d distinct users in the orders table.\" %(num_uniq_users[0][0]))"
   ]
  },
  {
   "cell_type": "markdown",
   "metadata": {},
   "source": [
    "Here we will examine a histogram of the number of products in a given order."
   ]
  },
  {
   "cell_type": "code",
   "execution_count": 162,
   "metadata": {
    "collapsed": true
   },
   "outputs": [],
   "source": [
    "num_prod_order_q = \"\"\"SELECT MAX(add_to_cart_order) FROM\n",
    "                    order_products\n",
    "                    GROUP BY order_id\n",
    "                   \"\"\"\n",
    "c.execute(num_prod_order_q)\n",
    "num_prod_order = c.fetchall()"
   ]
  },
  {
   "cell_type": "code",
   "execution_count": 167,
   "metadata": {},
   "outputs": [
    {
     "data": {
      "text/plain": [
       "<matplotlib.text.Text at 0x18712f2ddd8>"
      ]
     },
     "execution_count": 167,
     "metadata": {},
     "output_type": "execute_result"
    },
    {
     "data": {
      "image/png": "[encoded data removed]",
      "text/plain": [
       "<matplotlib.figure.Figure at 0x1871510d550>"
      ]
     },
     "metadata": {},
     "output_type": "display_data"
    }
   ],
   "source": [
    "plt.hist([tup[0] for tup in num_prod_order], bins=50)\n",
    "plt.xlabel(\"Number of Products\")\n",
    "plt.ylabel(\"Count of Orders\")"
   ]
  },
  {
   "cell_type": "markdown",
   "metadata": {},
   "source": [
    "Now we have a look at the number of products ordered broken down by each of the departments. The largest category by far is produce which lines up with the earlier observation that fruit and vegetables made up the majority of the most popular individual item types."
   ]
  },
  {
   "cell_type": "code",
   "execution_count": 175,
   "metadata": {
    "collapsed": true
   },
   "outputs": [],
   "source": [
    "dept_pop_q = \"\"\"SELECT d.department, COUNT(*) as count FROM \n",
    "              (SELECT p.department_id FROM\n",
    "              order_products o LEFT JOIN products p\n",
    "              ON o.product_id = p.product_id) as j\n",
    "              LEFT JOIN departments d\n",
    "              ON j.department_id = d.department_id\n",
    "              GROUP BY d.department_id\n",
    "              ORDER BY count DESC\n",
    "              \"\"\"\n",
    "c.execute(dept_pop_q)\n",
    "dept_pop = c.fetchall()"
   ]
  },
  {
   "cell_type": "code",
   "execution_count": 181,
   "metadata": {},
   "outputs": [
    {
     "data": {
      "text/plain": [
       "(array([ 0,  1,  2,  3,  4,  5,  6,  7,  8,  9, 10, 11, 12, 13, 14, 15, 16,\n",
       "        17, 18, 19, 20]), <a list of 21 Text xticklabel objects>)"
      ]
     },
     "execution_count": 181,
     "metadata": {},
     "output_type": "execute_result"
    },
    {
     "data": {
      "image/png": "[encoded data removed]",
      "text/plain": [
       "<matplotlib.figure.Figure at 0x187135ef518>"
      ]
     },
     "metadata": {},
     "output_type": "display_data"
    }
   ],
   "source": [
    "plt.figure(figsize=(12, 8))\n",
    "sns.barplot([tup[0] for tup in dept_pop], [tup[1] for tup in dept_pop])\n",
    "plt.xlabel(\"Department\")\n",
    "plt.ylabel(\"Number of Orders\")\n",
    "plt.xticks(rotation = \"vertical\")"
   ]
  },
  {
   "cell_type": "code",
   "execution_count": 182,
   "metadata": {
    "collapsed": true
   },
   "outputs": [],
   "source": [
    "aisle_pop_q = \"\"\"SELECT a.aisle, COUNT(*) as count FROM \n",
    "              (SELECT p.aisle_id FROM\n",
    "              order_products o LEFT JOIN products p\n",
    "              ON o.product_id = p.product_id) as j\n",
    "              LEFT JOIN aisles a\n",
    "              ON j.aisle_id = a.aisle_id\n",
    "              GROUP BY a.aisle_id\n",
    "              ORDER BY count DESC\n",
    "              \"\"\"\n",
    "c.execute(aisle_pop_q)\n",
    "aisles_pop = c.fetchall()"
   ]
  },
  {
   "cell_type": "code",
   "execution_count": 184,
   "metadata": {},
   "outputs": [
    {
     "data": {
      "text/plain": [
       "(array([ 0,  1,  2,  3,  4,  5,  6,  7,  8,  9, 10, 11, 12, 13, 14, 15, 16,\n",
       "        17, 18, 19, 20, 21, 22, 23, 24]),\n",
       " <a list of 25 Text xticklabel objects>)"
      ]
     },
     "execution_count": 184,
     "metadata": {},
     "output_type": "execute_result"
    },
    {
     "data": {
      "image/png": "[encoded data removed]",
      "text/plain": [
       "<matplotlib.figure.Figure at 0x18713f9b7b8>"
      ]
     },
     "metadata": {},
     "output_type": "display_data"
    }
   ],
   "source": [
    "aisles_pop = aisles_pop[:25]\n",
    "plt.figure(figsize=(12, 8))\n",
    "sns.barplot([tup[0] for tup in aisles_pop], [tup[1] for tup in aisles_pop])\n",
    "plt.xlabel(\"Aisle\")\n",
    "plt.ylabel(\"Number of Orders\")\n",
    "plt.xticks(rotation = \"vertical\")"
   ]
  },
  {
   "cell_type": "code",
   "execution_count": 186,
   "metadata": {
    "collapsed": true
   },
   "outputs": [],
   "source": [
    "time_between_q = \"\"\"SELECT order_number, AVG(days_since_prior_order)\n",
    "                 FROM orders\n",
    "                 WHERE order_number > 1\n",
    "                 GROUP BY order_number\n",
    "                 \"\"\"\n",
    "c.execute(time_between_q)\n",
    "time_between = c.fetchall()"
   ]
  },
  {
   "cell_type": "code",
   "execution_count": 190,
   "metadata": {},
   "outputs": [
    {
     "data": {
      "text/plain": [
       "<matplotlib.text.Text at 0x1871445dc50>"
      ]
     },
     "execution_count": 190,
     "metadata": {},
     "output_type": "execute_result"
    },
    {
     "data": {
      "image/png": "[encoded data removed]",
      "text/plain": [
       "<matplotlib.figure.Figure at 0x187135e45f8>"
      ]
     },
     "metadata": {},
     "output_type": "display_data"
    }
   ],
   "source": [
    "plt.plot([tup[0] for tup in time_between], [tup[1] for tup in time_between])\n",
    "plt.xlabel(\"Order Number\")\n",
    "plt.ylabel(\"Average Days Since Last Order\")"
   ]
  },
  {
   "cell_type": "code",
   "execution_count": 15,
   "metadata": {
    "collapsed": true
   },
   "outputs": [],
   "source": [
    "aisles_df = pd.read_sql_query(\"SELECT * from aisles\", conn)\n",
    "aisles_df.drop([\"index\"], axis=1, inplace=True)\n",
    "aisles_df.head()\n",
    "aisles_df.to_csv(\"aisles.csv\", index=False)"
   ]
  },
  {
   "cell_type": "code",
   "execution_count": 17,
   "metadata": {
    "collapsed": true
   },
   "outputs": [],
   "source": [
    "dept_df = pd.read_sql_query(\"SELECT * from departments\", conn)\n",
    "dept_df.drop([\"index\"], axis=1, inplace=True)\n",
    "dept_df.head()\n",
    "dept_df.to_csv(\"dept.csv\", index=False)"
   ]
  },
  {
   "cell_type": "code",
   "execution_count": 18,
   "metadata": {
    "collapsed": true
   },
   "outputs": [],
   "source": [
    "prod_df = pd.read_sql_query(\"SELECT * from products\", conn)\n",
    "prod_df.drop([\"index\"], axis=1, inplace=True)\n",
    "prod_df.head()\n",
    "prod_df.to_csv(\"prods.csv\", index=False)"
   ]
  },
  {
   "cell_type": "code",
   "execution_count": 21,
   "metadata": {},
   "outputs": [
    {
     "data": {
      "text/html": [
       "<div>\n",
       "<style>\n",
       "    .dataframe thead tr:only-child th {\n",
       "        text-align: right;\n",
       "    }\n",
       "\n",
       "    .dataframe thead th {\n",
       "        text-align: left;\n",
       "    }\n",
       "\n",
       "    .dataframe tbody tr th {\n",
       "        vertical-align: top;\n",
       "    }\n",
       "</style>\n",
       "<table border=\"1\" class=\"dataframe\">\n",
       "  <thead>\n",
       "    <tr style=\"text-align: right;\">\n",
       "      <th></th>\n",
       "      <th>product_id</th>\n",
       "      <th>product_name</th>\n",
       "      <th>aisle_id</th>\n",
       "      <th>department_id</th>\n",
       "    </tr>\n",
       "  </thead>\n",
       "  <tbody>\n",
       "    <tr>\n",
       "      <th>0</th>\n",
       "      <td>1</td>\n",
       "      <td>Chocolate Sandwich Cookies</td>\n",
       "      <td>61</td>\n",
       "      <td>19</td>\n",
       "    </tr>\n",
       "    <tr>\n",
       "      <th>1</th>\n",
       "      <td>2</td>\n",
       "      <td>All-Seasons Salt</td>\n",
       "      <td>104</td>\n",
       "      <td>13</td>\n",
       "    </tr>\n",
       "    <tr>\n",
       "      <th>2</th>\n",
       "      <td>3</td>\n",
       "      <td>Robust Golden Unsweetened Oolong Tea</td>\n",
       "      <td>94</td>\n",
       "      <td>7</td>\n",
       "    </tr>\n",
       "    <tr>\n",
       "      <th>3</th>\n",
       "      <td>4</td>\n",
       "      <td>Smart Ones Classic Favorites Mini Rigatoni Wit...</td>\n",
       "      <td>38</td>\n",
       "      <td>1</td>\n",
       "    </tr>\n",
       "    <tr>\n",
       "      <th>4</th>\n",
       "      <td>5</td>\n",
       "      <td>Green Chile Anytime Sauce</td>\n",
       "      <td>5</td>\n",
       "      <td>13</td>\n",
       "    </tr>\n",
       "  </tbody>\n",
       "</table>\n",
       "</div>"
      ],
      "text/plain": [
       "   product_id                                       product_name  aisle_id  \\\n",
       "0           1                         Chocolate Sandwich Cookies        61   \n",
       "1           2                                   All-Seasons Salt       104   \n",
       "2           3               Robust Golden Unsweetened Oolong Tea        94   \n",
       "3           4  Smart Ones Classic Favorites Mini Rigatoni Wit...        38   \n",
       "4           5                          Green Chile Anytime Sauce         5   \n",
       "\n",
       "   department_id  \n",
       "0             19  \n",
       "1             13  \n",
       "2              7  \n",
       "3              1  \n",
       "4             13  "
      ]
     },
     "execution_count": 21,
     "metadata": {},
     "output_type": "execute_result"
    }
   ],
   "source": [
    "prods = pd.read_csv(\"prods.csv\", encoding=\"ISO-8859-1\")\n",
    "prods.head()"
   ]
  },
  {
   "cell_type": "code",
   "execution_count": 23,
   "metadata": {
    "collapsed": true
   },
   "outputs": [],
   "source": [
    "ord_df = pd.read_sql_query(\"SELECT * from orders\", conn)\n",
    "ord_df.head()\n",
    "ord_df.to_csv(\"orders.csv\", index=False)"
   ]
  },
  {
   "cell_type": "code",
   "execution_count": 3,
   "metadata": {},
   "outputs": [
    {
     "data": {
      "text/html": [
       "<div>\n",
       "<style>\n",
       "    .dataframe thead tr:only-child th {\n",
       "        text-align: right;\n",
       "    }\n",
       "\n",
       "    .dataframe thead th {\n",
       "        text-align: left;\n",
       "    }\n",
       "\n",
       "    .dataframe tbody tr th {\n",
       "        vertical-align: top;\n",
       "    }\n",
       "</style>\n",
       "<table border=\"1\" class=\"dataframe\">\n",
       "  <thead>\n",
       "    <tr style=\"text-align: right;\">\n",
       "      <th></th>\n",
       "      <th>order_id</th>\n",
       "      <th>user_id</th>\n",
       "      <th>order_number</th>\n",
       "      <th>order_dow</th>\n",
       "      <th>order_hour_of_day</th>\n",
       "      <th>days_since_prior_order</th>\n",
       "    </tr>\n",
       "  </thead>\n",
       "  <tbody>\n",
       "    <tr>\n",
       "      <th>0</th>\n",
       "      <td>2168274</td>\n",
       "      <td>2</td>\n",
       "      <td>1</td>\n",
       "      <td>2</td>\n",
       "      <td>11</td>\n",
       "      <td>NaN</td>\n",
       "    </tr>\n",
       "    <tr>\n",
       "      <th>1</th>\n",
       "      <td>1501582</td>\n",
       "      <td>2</td>\n",
       "      <td>2</td>\n",
       "      <td>5</td>\n",
       "      <td>10</td>\n",
       "      <td>10.0</td>\n",
       "    </tr>\n",
       "    <tr>\n",
       "      <th>2</th>\n",
       "      <td>1901567</td>\n",
       "      <td>2</td>\n",
       "      <td>3</td>\n",
       "      <td>1</td>\n",
       "      <td>10</td>\n",
       "      <td>3.0</td>\n",
       "    </tr>\n",
       "    <tr>\n",
       "      <th>3</th>\n",
       "      <td>738281</td>\n",
       "      <td>2</td>\n",
       "      <td>4</td>\n",
       "      <td>2</td>\n",
       "      <td>10</td>\n",
       "      <td>8.0</td>\n",
       "    </tr>\n",
       "    <tr>\n",
       "      <th>4</th>\n",
       "      <td>1673511</td>\n",
       "      <td>2</td>\n",
       "      <td>5</td>\n",
       "      <td>3</td>\n",
       "      <td>11</td>\n",
       "      <td>8.0</td>\n",
       "    </tr>\n",
       "  </tbody>\n",
       "</table>\n",
       "</div>"
      ],
      "text/plain": [
       "   order_id  user_id  order_number  order_dow  order_hour_of_day  \\\n",
       "0   2168274        2             1          2                 11   \n",
       "1   1501582        2             2          5                 10   \n",
       "2   1901567        2             3          1                 10   \n",
       "3    738281        2             4          2                 10   \n",
       "4   1673511        2             5          3                 11   \n",
       "\n",
       "   days_since_prior_order  \n",
       "0                     NaN  \n",
       "1                    10.0  \n",
       "2                     3.0  \n",
       "3                     8.0  \n",
       "4                     8.0  "
      ]
     },
     "execution_count": 3,
     "metadata": {},
     "output_type": "execute_result"
    }
   ],
   "source": [
    "ords = pd.read_csv(\"orders.csv\")\n",
    "ords.head()"
   ]
  },
  {
   "cell_type": "code",
   "execution_count": 28,
   "metadata": {
    "collapsed": true
   },
   "outputs": [],
   "source": [
    "op_df = pd.read_sql_query(\"SELECT * from order_products\", conn)\n",
    "op_df.head()\n",
    "op_df.to_csv(\"order_prods.csv\", index=False)"
   ]
  },
  {
   "cell_type": "code",
   "execution_count": 29,
   "metadata": {},
   "outputs": [
    {
     "data": {
      "text/html": [
       "<div>\n",
       "<style>\n",
       "    .dataframe thead tr:only-child th {\n",
       "        text-align: right;\n",
       "    }\n",
       "\n",
       "    .dataframe thead th {\n",
       "        text-align: left;\n",
       "    }\n",
       "\n",
       "    .dataframe tbody tr th {\n",
       "        vertical-align: top;\n",
       "    }\n",
       "</style>\n",
       "<table border=\"1\" class=\"dataframe\">\n",
       "  <thead>\n",
       "    <tr style=\"text-align: right;\">\n",
       "      <th></th>\n",
       "      <th>order_id</th>\n",
       "      <th>product_id</th>\n",
       "      <th>add_to_cart_order</th>\n",
       "      <th>reordered</th>\n",
       "    </tr>\n",
       "  </thead>\n",
       "  <tbody>\n",
       "    <tr>\n",
       "      <th>0</th>\n",
       "      <td>2</td>\n",
       "      <td>33120</td>\n",
       "      <td>1</td>\n",
       "      <td>1</td>\n",
       "    </tr>\n",
       "    <tr>\n",
       "      <th>1</th>\n",
       "      <td>2</td>\n",
       "      <td>28985</td>\n",
       "      <td>2</td>\n",
       "      <td>1</td>\n",
       "    </tr>\n",
       "    <tr>\n",
       "      <th>2</th>\n",
       "      <td>2</td>\n",
       "      <td>9327</td>\n",
       "      <td>3</td>\n",
       "      <td>0</td>\n",
       "    </tr>\n",
       "    <tr>\n",
       "      <th>3</th>\n",
       "      <td>2</td>\n",
       "      <td>45918</td>\n",
       "      <td>4</td>\n",
       "      <td>1</td>\n",
       "    </tr>\n",
       "    <tr>\n",
       "      <th>4</th>\n",
       "      <td>2</td>\n",
       "      <td>30035</td>\n",
       "      <td>5</td>\n",
       "      <td>0</td>\n",
       "    </tr>\n",
       "  </tbody>\n",
       "</table>\n",
       "</div>"
      ],
      "text/plain": [
       "   order_id  product_id  add_to_cart_order  reordered\n",
       "0         2       33120                  1          1\n",
       "1         2       28985                  2          1\n",
       "2         2        9327                  3          0\n",
       "3         2       45918                  4          1\n",
       "4         2       30035                  5          0"
      ]
     },
     "execution_count": 29,
     "metadata": {},
     "output_type": "execute_result"
    }
   ],
   "source": [
    "ops = pd.read_csv(\"order_prods.csv\")\n",
    "ops.head()"
   ]
  },
  {
   "cell_type": "code",
   "execution_count": 4,
   "metadata": {
    "collapsed": true
   },
   "outputs": [],
   "source": [
    "group_dow_hour = ords.groupby([\"order_dow\", \"order_hour_of_day\"])[\"order_number\"].aggregate(\"count\").reset_index()"
   ]
  },
  {
   "cell_type": "code",
   "execution_count": 5,
   "metadata": {
    "collapsed": true
   },
   "outputs": [],
   "source": [
    "group_dow_hour = group_dow_hour.pivot(\"order_dow\", \"order_hour_of_day\", \"order_number\")"
   ]
  },
  {
   "cell_type": "code",
   "execution_count": 6,
   "metadata": {},
   "outputs": [
    {
     "data": {
      "text/plain": [
       "<matplotlib.text.Text at 0x127c36cd320>"
      ]
     },
     "execution_count": 6,
     "metadata": {},
     "output_type": "execute_result"
    },
    {
     "data": {
      "image/png": "[encoded data removed]",
      "text/plain": [
       "<matplotlib.figure.Figure at 0x127c38964a8>"
      ]
     },
     "metadata": {},
     "output_type": "display_data"
    }
   ],
   "source": [
    "plt.figure(figsize=(12, 8))\n",
    "sns.heatmap(group_dow_hour, cmap=\"Greens\")\n",
    "plt.title(\"Heatmap of Day of Week and Hour\")"
   ]
  },
  {
   "cell_type": "code",
   "execution_count": 34,
   "metadata": {},
   "outputs": [
    {
     "data": {
      "text/plain": [
       "25000"
      ]
     },
     "execution_count": 34,
     "metadata": {},
     "output_type": "execute_result"
    }
   ],
   "source": []
  },
  {
   "cell_type": "code",
   "execution_count": null,
   "metadata": {
    "collapsed": true
   },
   "outputs": [],
   "source": []
  }
 ],
 "metadata": {
  "kernelspec": {
   "display_name": "Python 3",
   "language": "python",
   "name": "python3"
  },
  "language_info": {
   "codemirror_mode": {
    "name": "ipython",
    "version": 3
   },
   "file_extension": ".py",
   "mimetype": "text/x-python",
   "name": "python",
   "nbconvert_exporter": "python",
   "pygments_lexer": "ipython3",
   "version": "3.6.1"
  }
 },
 "nbformat": 4,
 "nbformat_minor": 2
}
