{
 "cells": [
  {
   "cell_type": "code",
   "execution_count": 1,
   "metadata": {
    "collapsed": false
   },
   "outputs": [
    {
     "name": "stderr",
     "output_type": "stream",
     "text": [
      ":0: FutureWarning: IPython widgets are experimental and may change in the future.\n"
     ]
    }
   ],
   "source": [
    "import matplotlib.pyplot as plt\n",
    "%matplotlib inline\n",
    "import pandas as pd\n",
    "import numpy as np\n",
    "import seaborn as sns"
   ]
  },
  {
   "cell_type": "code",
   "execution_count": null,
   "metadata": {
    "collapsed": true
   },
   "outputs": [],
   "source": [
    "plt.style.use(\"fivethirtyeight\")"
   ]
  },
  {
   "cell_type": "code",
   "execution_count": 2,
   "metadata": {
    "collapsed": true
   },
   "outputs": [],
   "source": [
    "import gmplot"
   ]
  },
  {
   "cell_type": "code",
   "execution_count": 31,
   "metadata": {
    "collapsed": false
   },
   "outputs": [
    {
     "data": {
      "text/html": [
       "<div>\n",
       "<table border=\"1\" class=\"dataframe\">\n",
       "  <thead>\n",
       "    <tr style=\"text-align: right;\">\n",
       "      <th></th>\n",
       "      <th>FY 05/06</th>\n",
       "      <th>FY 06/07</th>\n",
       "      <th>FY 07/08</th>\n",
       "      <th>FY 08/09</th>\n",
       "      <th>FY 09/10</th>\n",
       "      <th>FY 10/11</th>\n",
       "      <th>FY 11/12</th>\n",
       "      <th>FY 12/13</th>\n",
       "      <th>Location 1</th>\n",
       "    </tr>\n",
       "  </thead>\n",
       "  <tbody>\n",
       "    <tr>\n",
       "      <th>0</th>\n",
       "      <td>32</td>\n",
       "      <td>36</td>\n",
       "      <td>34</td>\n",
       "      <td>32</td>\n",
       "      <td>27</td>\n",
       "      <td>26</td>\n",
       "      <td>36</td>\n",
       "      <td>16</td>\n",
       "      <td>91342\\n(34.30514302800049, -118.43521825999971)</td>\n",
       "    </tr>\n",
       "    <tr>\n",
       "      <th>1</th>\n",
       "      <td>18</td>\n",
       "      <td>19</td>\n",
       "      <td>17</td>\n",
       "      <td>14</td>\n",
       "      <td>13</td>\n",
       "      <td>13</td>\n",
       "      <td>13</td>\n",
       "      <td>12</td>\n",
       "      <td>91309\\n(34.21867307400049, -118.59758676999968)</td>\n",
       "    </tr>\n",
       "    <tr>\n",
       "      <th>2</th>\n",
       "      <td>62</td>\n",
       "      <td>66</td>\n",
       "      <td>58</td>\n",
       "      <td>65</td>\n",
       "      <td>55</td>\n",
       "      <td>52</td>\n",
       "      <td>44</td>\n",
       "      <td>36</td>\n",
       "      <td>91302\\n(34.14327419400047, -118.6628270279997)</td>\n",
       "    </tr>\n",
       "    <tr>\n",
       "      <th>3</th>\n",
       "      <td>31</td>\n",
       "      <td>35</td>\n",
       "      <td>32</td>\n",
       "      <td>31</td>\n",
       "      <td>26</td>\n",
       "      <td>26</td>\n",
       "      <td>27</td>\n",
       "      <td>24</td>\n",
       "      <td>90272\\n(34.04886156900045, -118.53572692799969)</td>\n",
       "    </tr>\n",
       "    <tr>\n",
       "      <th>4</th>\n",
       "      <td>47</td>\n",
       "      <td>52</td>\n",
       "      <td>50</td>\n",
       "      <td>49</td>\n",
       "      <td>41</td>\n",
       "      <td>41</td>\n",
       "      <td>44</td>\n",
       "      <td>26</td>\n",
       "      <td>91316\\n(34.16673287800046, -118.5162960619997)</td>\n",
       "    </tr>\n",
       "  </tbody>\n",
       "</table>\n",
       "</div>"
      ],
      "text/plain": [
       "   FY 05/06  FY 06/07  FY 07/08  FY 08/09  FY 09/10  FY 10/11  FY 11/12  \\\n",
       "0        32        36        34        32        27        26        36   \n",
       "1        18        19        17        14        13        13        13   \n",
       "2        62        66        58        65        55        52        44   \n",
       "3        31        35        32        31        26        26        27   \n",
       "4        47        52        50        49        41        41        44   \n",
       "\n",
       "   FY 12/13                                       Location 1  \n",
       "0        16  91342\\n(34.30514302800049, -118.43521825999971)  \n",
       "1        12  91309\\n(34.21867307400049, -118.59758676999968)  \n",
       "2        36   91302\\n(34.14327419400047, -118.6628270279997)  \n",
       "3        24  90272\\n(34.04886156900045, -118.53572692799969)  \n",
       "4        26   91316\\n(34.16673287800046, -118.5162960619997)  "
      ]
     },
     "execution_count": 31,
     "metadata": {},
     "output_type": "execute_result"
    }
   ],
   "source": [
    "water = pd.read_csv(\"LAWaterUse.csv\")\n",
    "water.head()"
   ]
  },
  {
   "cell_type": "code",
   "execution_count": 32,
   "metadata": {
    "collapsed": false
   },
   "outputs": [
    {
     "data": {
      "text/html": [
       "<div>\n",
       "<table border=\"1\" class=\"dataframe\">\n",
       "  <thead>\n",
       "    <tr style=\"text-align: right;\">\n",
       "      <th></th>\n",
       "      <th>FY 05/06</th>\n",
       "      <th>FY 06/07</th>\n",
       "      <th>FY 07/08</th>\n",
       "      <th>FY 08/09</th>\n",
       "      <th>FY 09/10</th>\n",
       "      <th>FY 10/11</th>\n",
       "      <th>FY 11/12</th>\n",
       "      <th>FY 12/13</th>\n",
       "      <th>Location 1</th>\n",
       "      <th>total</th>\n",
       "    </tr>\n",
       "  </thead>\n",
       "  <tbody>\n",
       "    <tr>\n",
       "      <th>0</th>\n",
       "      <td>32</td>\n",
       "      <td>36</td>\n",
       "      <td>34</td>\n",
       "      <td>32</td>\n",
       "      <td>27</td>\n",
       "      <td>26</td>\n",
       "      <td>36</td>\n",
       "      <td>16</td>\n",
       "      <td>91342\\n(34.30514302800049, -118.43521825999971)</td>\n",
       "      <td>239</td>\n",
       "    </tr>\n",
       "    <tr>\n",
       "      <th>1</th>\n",
       "      <td>18</td>\n",
       "      <td>19</td>\n",
       "      <td>17</td>\n",
       "      <td>14</td>\n",
       "      <td>13</td>\n",
       "      <td>13</td>\n",
       "      <td>13</td>\n",
       "      <td>12</td>\n",
       "      <td>91309\\n(34.21867307400049, -118.59758676999968)</td>\n",
       "      <td>119</td>\n",
       "    </tr>\n",
       "    <tr>\n",
       "      <th>2</th>\n",
       "      <td>62</td>\n",
       "      <td>66</td>\n",
       "      <td>58</td>\n",
       "      <td>65</td>\n",
       "      <td>55</td>\n",
       "      <td>52</td>\n",
       "      <td>44</td>\n",
       "      <td>36</td>\n",
       "      <td>91302\\n(34.14327419400047, -118.6628270279997)</td>\n",
       "      <td>438</td>\n",
       "    </tr>\n",
       "    <tr>\n",
       "      <th>3</th>\n",
       "      <td>31</td>\n",
       "      <td>35</td>\n",
       "      <td>32</td>\n",
       "      <td>31</td>\n",
       "      <td>26</td>\n",
       "      <td>26</td>\n",
       "      <td>27</td>\n",
       "      <td>24</td>\n",
       "      <td>90272\\n(34.04886156900045, -118.53572692799969)</td>\n",
       "      <td>232</td>\n",
       "    </tr>\n",
       "    <tr>\n",
       "      <th>4</th>\n",
       "      <td>47</td>\n",
       "      <td>52</td>\n",
       "      <td>50</td>\n",
       "      <td>49</td>\n",
       "      <td>41</td>\n",
       "      <td>41</td>\n",
       "      <td>44</td>\n",
       "      <td>26</td>\n",
       "      <td>91316\\n(34.16673287800046, -118.5162960619997)</td>\n",
       "      <td>350</td>\n",
       "    </tr>\n",
       "  </tbody>\n",
       "</table>\n",
       "</div>"
      ],
      "text/plain": [
       "   FY 05/06  FY 06/07  FY 07/08  FY 08/09  FY 09/10  FY 10/11  FY 11/12  \\\n",
       "0        32        36        34        32        27        26        36   \n",
       "1        18        19        17        14        13        13        13   \n",
       "2        62        66        58        65        55        52        44   \n",
       "3        31        35        32        31        26        26        27   \n",
       "4        47        52        50        49        41        41        44   \n",
       "\n",
       "   FY 12/13                                       Location 1  total  \n",
       "0        16  91342\\n(34.30514302800049, -118.43521825999971)    239  \n",
       "1        12  91309\\n(34.21867307400049, -118.59758676999968)    119  \n",
       "2        36   91302\\n(34.14327419400047, -118.6628270279997)    438  \n",
       "3        24  90272\\n(34.04886156900045, -118.53572692799969)    232  \n",
       "4        26   91316\\n(34.16673287800046, -118.5162960619997)    350  "
      ]
     },
     "execution_count": 32,
     "metadata": {},
     "output_type": "execute_result"
    }
   ],
   "source": [
    "year_columns = [col for col in water.columns if col[:2] == \"FY\"] #selection columns with FY \n",
    "water[\"total\"] = water[year_columns].sum(axis = 1) #Total water usage averages\n",
    "water.head()"
   ]
  },
  {
   "cell_type": "code",
   "execution_count": 33,
   "metadata": {
    "collapsed": false
   },
   "outputs": [
    {
     "data": {
      "text/html": [
       "<div>\n",
       "<table border=\"1\" class=\"dataframe\">\n",
       "  <thead>\n",
       "    <tr style=\"text-align: right;\">\n",
       "      <th></th>\n",
       "      <th>FY 05/06</th>\n",
       "      <th>FY 06/07</th>\n",
       "      <th>FY 07/08</th>\n",
       "      <th>FY 08/09</th>\n",
       "      <th>FY 09/10</th>\n",
       "      <th>FY 10/11</th>\n",
       "      <th>FY 11/12</th>\n",
       "      <th>FY 12/13</th>\n",
       "      <th>Location 1</th>\n",
       "      <th>total</th>\n",
       "      <th>zip</th>\n",
       "      <th>latitude</th>\n",
       "      <th>longitude</th>\n",
       "    </tr>\n",
       "  </thead>\n",
       "  <tbody>\n",
       "    <tr>\n",
       "      <th>0</th>\n",
       "      <td>32</td>\n",
       "      <td>36</td>\n",
       "      <td>34</td>\n",
       "      <td>32</td>\n",
       "      <td>27</td>\n",
       "      <td>26</td>\n",
       "      <td>36</td>\n",
       "      <td>16</td>\n",
       "      <td>34.30514302800049, -118.43521825999971</td>\n",
       "      <td>239</td>\n",
       "      <td>91342</td>\n",
       "      <td>34.305143</td>\n",
       "      <td>-118.435218</td>\n",
       "    </tr>\n",
       "    <tr>\n",
       "      <th>1</th>\n",
       "      <td>18</td>\n",
       "      <td>19</td>\n",
       "      <td>17</td>\n",
       "      <td>14</td>\n",
       "      <td>13</td>\n",
       "      <td>13</td>\n",
       "      <td>13</td>\n",
       "      <td>12</td>\n",
       "      <td>34.21867307400049, -118.59758676999968</td>\n",
       "      <td>119</td>\n",
       "      <td>91309</td>\n",
       "      <td>34.218673</td>\n",
       "      <td>-118.597587</td>\n",
       "    </tr>\n",
       "    <tr>\n",
       "      <th>2</th>\n",
       "      <td>62</td>\n",
       "      <td>66</td>\n",
       "      <td>58</td>\n",
       "      <td>65</td>\n",
       "      <td>55</td>\n",
       "      <td>52</td>\n",
       "      <td>44</td>\n",
       "      <td>36</td>\n",
       "      <td>34.14327419400047, -118.6628270279997</td>\n",
       "      <td>438</td>\n",
       "      <td>91302</td>\n",
       "      <td>34.143274</td>\n",
       "      <td>-118.662827</td>\n",
       "    </tr>\n",
       "    <tr>\n",
       "      <th>3</th>\n",
       "      <td>31</td>\n",
       "      <td>35</td>\n",
       "      <td>32</td>\n",
       "      <td>31</td>\n",
       "      <td>26</td>\n",
       "      <td>26</td>\n",
       "      <td>27</td>\n",
       "      <td>24</td>\n",
       "      <td>34.04886156900045, -118.53572692799969</td>\n",
       "      <td>232</td>\n",
       "      <td>90272</td>\n",
       "      <td>34.048862</td>\n",
       "      <td>-118.535727</td>\n",
       "    </tr>\n",
       "    <tr>\n",
       "      <th>4</th>\n",
       "      <td>47</td>\n",
       "      <td>52</td>\n",
       "      <td>50</td>\n",
       "      <td>49</td>\n",
       "      <td>41</td>\n",
       "      <td>41</td>\n",
       "      <td>44</td>\n",
       "      <td>26</td>\n",
       "      <td>34.16673287800046, -118.5162960619997</td>\n",
       "      <td>350</td>\n",
       "      <td>91316</td>\n",
       "      <td>34.166733</td>\n",
       "      <td>-118.516296</td>\n",
       "    </tr>\n",
       "  </tbody>\n",
       "</table>\n",
       "</div>"
      ],
      "text/plain": [
       "   FY 05/06  FY 06/07  FY 07/08  FY 08/09  FY 09/10  FY 10/11  FY 11/12  \\\n",
       "0        32        36        34        32        27        26        36   \n",
       "1        18        19        17        14        13        13        13   \n",
       "2        62        66        58        65        55        52        44   \n",
       "3        31        35        32        31        26        26        27   \n",
       "4        47        52        50        49        41        41        44   \n",
       "\n",
       "   FY 12/13                              Location 1  total    zip   latitude  \\\n",
       "0        16  34.30514302800049, -118.43521825999971    239  91342  34.305143   \n",
       "1        12  34.21867307400049, -118.59758676999968    119  91309  34.218673   \n",
       "2        36   34.14327419400047, -118.6628270279997    438  91302  34.143274   \n",
       "3        24  34.04886156900045, -118.53572692799969    232  90272  34.048862   \n",
       "4        26   34.16673287800046, -118.5162960619997    350  91316  34.166733   \n",
       "\n",
       "    longitude  \n",
       "0 -118.435218  \n",
       "1 -118.597587  \n",
       "2 -118.662827  \n",
       "3 -118.535727  \n",
       "4 -118.516296  "
      ]
     },
     "execution_count": 33,
     "metadata": {},
     "output_type": "execute_result"
    }
   ],
   "source": [
    "#Extract zip code, latitude and longitude from Location 1 column\n",
    "water[\"zip\"] = water[\"Location 1\"].apply(lambda x: x.split(\"\\n\")[0])\n",
    "water[\"Location 1\"] = water[\"Location 1\"].apply(lambda x: x.split(\"\\n\")[1][1:-1])\n",
    "water[\"latitude\"] = water[\"Location 1\"].apply(lambda x: float(x.split(\",\")[0]))\n",
    "water[\"longitude\"] = water[\"Location 1\"].apply(lambda x: float(x.split(\",\")[1]))\n",
    "water.head()"
   ]
  },
  {
   "cell_type": "code",
   "execution_count": 63,
   "metadata": {
    "collapsed": false
   },
   "outputs": [
    {
     "data": {
      "text/plain": [
       "(30352, 13)"
      ]
     },
     "execution_count": 63,
     "metadata": {},
     "output_type": "execute_result"
    }
   ],
   "source": [
    "#Replicate rows in new dataframe to produce heatmap\n",
    "water_df = water.copy()\n",
    "zipTotals = zip(water.zip.values, water.total.values)\n",
    "for combination in zipTotals:\n",
    "    zipSub = water[water[\"zip\"] == combination[0]]\n",
    "    for i in range(combination[1]):\n",
    "        water_df = water_df.append(zipSub)\n",
    "water_df.shape"
   ]
  },
  {
   "cell_type": "code",
   "execution_count": 64,
   "metadata": {
    "collapsed": false
   },
   "outputs": [],
   "source": [
    "water_df[\"latitude\"] = water_df[\"latitude\"].apply(lambda x: x + np.random.uniform(-0.0005, 0.0005))\n",
    "water_df[\"longitude\"] = water_df[\"longitude\"].apply(lambda x: x + np.random.uniform(-0.0005, 0.0005))"
   ]
  },
  {
   "cell_type": "code",
   "execution_count": 65,
   "metadata": {
    "collapsed": false
   },
   "outputs": [],
   "source": [
    "LA = gmplot.GoogleMapPlotter(34.05, -118.25, 16)\n",
    "LA.heatmap(water_df.latitude, water_df.longitude)\n",
    "LA.draw(\"LAWater.html\")"
   ]
  },
  {
   "cell_type": "code",
   "execution_count": 67,
   "metadata": {
    "collapsed": false
   },
   "outputs": [
    {
     "data": {
      "image/png": "[encoded data removed]",
      "text/plain": [
       "<matplotlib.figure.Figure at 0xc35bfd0>"
      ]
     },
     "metadata": {},
     "output_type": "display_data"
    }
   ],
   "source": [
    "plt.hist(water.total);"
   ]
  },
  {
   "cell_type": "code",
   "execution_count": 82,
   "metadata": {
    "collapsed": false
   },
   "outputs": [
    {
     "data": {
      "text/html": [
       "<div>\n",
       "<table border=\"1\" class=\"dataframe\">\n",
       "  <thead>\n",
       "    <tr style=\"text-align: right;\">\n",
       "      <th></th>\n",
       "      <th>FY 05/06</th>\n",
       "      <th>FY 06/07</th>\n",
       "      <th>FY 07/08</th>\n",
       "      <th>FY 08/09</th>\n",
       "      <th>FY 09/10</th>\n",
       "      <th>FY 10/11</th>\n",
       "      <th>FY 11/12</th>\n",
       "      <th>FY 12/13</th>\n",
       "      <th>Location 1</th>\n",
       "    </tr>\n",
       "  </thead>\n",
       "  <tbody>\n",
       "    <tr>\n",
       "      <th>0</th>\n",
       "      <td>273</td>\n",
       "      <td>280</td>\n",
       "      <td>276</td>\n",
       "      <td>273</td>\n",
       "      <td>275</td>\n",
       "      <td>264</td>\n",
       "      <td>262</td>\n",
       "      <td>265</td>\n",
       "      <td>90058\\n(34.00184426500044, -118.22112680399971)</td>\n",
       "    </tr>\n",
       "    <tr>\n",
       "      <th>1</th>\n",
       "      <td>399</td>\n",
       "      <td>413</td>\n",
       "      <td>419</td>\n",
       "      <td>413</td>\n",
       "      <td>400</td>\n",
       "      <td>394</td>\n",
       "      <td>390</td>\n",
       "      <td>411</td>\n",
       "      <td>90065\\n(34.10881395500047, -118.22766603799971)</td>\n",
       "    </tr>\n",
       "    <tr>\n",
       "      <th>2</th>\n",
       "      <td>847</td>\n",
       "      <td>853</td>\n",
       "      <td>858</td>\n",
       "      <td>826</td>\n",
       "      <td>790</td>\n",
       "      <td>763</td>\n",
       "      <td>757</td>\n",
       "      <td>796</td>\n",
       "      <td>91311\\n(34.25282047300044, -118.5950275619997)</td>\n",
       "    </tr>\n",
       "    <tr>\n",
       "      <th>3</th>\n",
       "      <td>344</td>\n",
       "      <td>348</td>\n",
       "      <td>350</td>\n",
       "      <td>340</td>\n",
       "      <td>343</td>\n",
       "      <td>334</td>\n",
       "      <td>332</td>\n",
       "      <td>341</td>\n",
       "      <td>90059\\n(33.927010235000466, -118.24839605799968)</td>\n",
       "    </tr>\n",
       "    <tr>\n",
       "      <th>4</th>\n",
       "      <td>378</td>\n",
       "      <td>387</td>\n",
       "      <td>391</td>\n",
       "      <td>380</td>\n",
       "      <td>370</td>\n",
       "      <td>363</td>\n",
       "      <td>357</td>\n",
       "      <td>373</td>\n",
       "      <td>90004\\n(34.07572239300049, -118.30301712299968)</td>\n",
       "    </tr>\n",
       "  </tbody>\n",
       "</table>\n",
       "</div>"
      ],
      "text/plain": [
       "   FY 05/06  FY 06/07  FY 07/08  FY 08/09  FY 09/10  FY 10/11  FY 11/12  \\\n",
       "0       273       280       276       273       275       264       262   \n",
       "1       399       413       419       413       400       394       390   \n",
       "2       847       853       858       826       790       763       757   \n",
       "3       344       348       350       340       343       334       332   \n",
       "4       378       387       391       380       370       363       357   \n",
       "\n",
       "   FY 12/13                                        Location 1  \n",
       "0       265   90058\\n(34.00184426500044, -118.22112680399971)  \n",
       "1       411   90065\\n(34.10881395500047, -118.22766603799971)  \n",
       "2       796    91311\\n(34.25282047300044, -118.5950275619997)  \n",
       "3       341  90059\\n(33.927010235000466, -118.24839605799968)  \n",
       "4       373   90004\\n(34.07572239300049, -118.30301712299968)  "
      ]
     },
     "execution_count": 82,
     "metadata": {},
     "output_type": "execute_result"
    }
   ],
   "source": [
    "df = pd.read_csv(\"LAEnergyUse.csv\")\n",
    "df.head()"
   ]
  },
  {
   "cell_type": "code",
   "execution_count": 83,
   "metadata": {
    "collapsed": false
   },
   "outputs": [
    {
     "data": {
      "text/html": [
       "<div>\n",
       "<table border=\"1\" class=\"dataframe\">\n",
       "  <thead>\n",
       "    <tr style=\"text-align: right;\">\n",
       "      <th></th>\n",
       "      <th>FY 05/06</th>\n",
       "      <th>FY 06/07</th>\n",
       "      <th>FY 07/08</th>\n",
       "      <th>FY 08/09</th>\n",
       "      <th>FY 09/10</th>\n",
       "      <th>FY 10/11</th>\n",
       "      <th>FY 11/12</th>\n",
       "      <th>FY 12/13</th>\n",
       "      <th>Location 1</th>\n",
       "      <th>total</th>\n",
       "    </tr>\n",
       "  </thead>\n",
       "  <tbody>\n",
       "    <tr>\n",
       "      <th>0</th>\n",
       "      <td>273</td>\n",
       "      <td>280</td>\n",
       "      <td>276</td>\n",
       "      <td>273</td>\n",
       "      <td>275</td>\n",
       "      <td>264</td>\n",
       "      <td>262</td>\n",
       "      <td>265</td>\n",
       "      <td>90058\\n(34.00184426500044, -118.22112680399971)</td>\n",
       "      <td>273</td>\n",
       "    </tr>\n",
       "    <tr>\n",
       "      <th>1</th>\n",
       "      <td>399</td>\n",
       "      <td>413</td>\n",
       "      <td>419</td>\n",
       "      <td>413</td>\n",
       "      <td>400</td>\n",
       "      <td>394</td>\n",
       "      <td>390</td>\n",
       "      <td>411</td>\n",
       "      <td>90065\\n(34.10881395500047, -118.22766603799971)</td>\n",
       "      <td>406</td>\n",
       "    </tr>\n",
       "    <tr>\n",
       "      <th>2</th>\n",
       "      <td>847</td>\n",
       "      <td>853</td>\n",
       "      <td>858</td>\n",
       "      <td>826</td>\n",
       "      <td>790</td>\n",
       "      <td>763</td>\n",
       "      <td>757</td>\n",
       "      <td>796</td>\n",
       "      <td>91311\\n(34.25282047300044, -118.5950275619997)</td>\n",
       "      <td>811</td>\n",
       "    </tr>\n",
       "    <tr>\n",
       "      <th>3</th>\n",
       "      <td>344</td>\n",
       "      <td>348</td>\n",
       "      <td>350</td>\n",
       "      <td>340</td>\n",
       "      <td>343</td>\n",
       "      <td>334</td>\n",
       "      <td>332</td>\n",
       "      <td>341</td>\n",
       "      <td>90059\\n(33.927010235000466, -118.24839605799968)</td>\n",
       "      <td>342</td>\n",
       "    </tr>\n",
       "    <tr>\n",
       "      <th>4</th>\n",
       "      <td>378</td>\n",
       "      <td>387</td>\n",
       "      <td>391</td>\n",
       "      <td>380</td>\n",
       "      <td>370</td>\n",
       "      <td>363</td>\n",
       "      <td>357</td>\n",
       "      <td>373</td>\n",
       "      <td>90004\\n(34.07572239300049, -118.30301712299968)</td>\n",
       "      <td>376</td>\n",
       "    </tr>\n",
       "  </tbody>\n",
       "</table>\n",
       "</div>"
      ],
      "text/plain": [
       "   FY 05/06  FY 06/07  FY 07/08  FY 08/09  FY 09/10  FY 10/11  FY 11/12  \\\n",
       "0       273       280       276       273       275       264       262   \n",
       "1       399       413       419       413       400       394       390   \n",
       "2       847       853       858       826       790       763       757   \n",
       "3       344       348       350       340       343       334       332   \n",
       "4       378       387       391       380       370       363       357   \n",
       "\n",
       "   FY 12/13                                        Location 1  total  \n",
       "0       265   90058\\n(34.00184426500044, -118.22112680399971)    273  \n",
       "1       411   90065\\n(34.10881395500047, -118.22766603799971)    406  \n",
       "2       796    91311\\n(34.25282047300044, -118.5950275619997)    811  \n",
       "3       341  90059\\n(33.927010235000466, -118.24839605799968)    342  \n",
       "4       373   90004\\n(34.07572239300049, -118.30301712299968)    376  "
      ]
     },
     "execution_count": 83,
     "metadata": {},
     "output_type": "execute_result"
    }
   ],
   "source": [
    "df[\"total\"] = df[year_columns].median(axis = 1) #median electricity usage in time period\n",
    "df[\"total\"] = df[\"total\"].apply(lambda x: int(round(x, 0)))\n",
    "df.head()"
   ]
  },
  {
   "cell_type": "code",
   "execution_count": 79,
   "metadata": {
    "collapsed": false
   },
   "outputs": [
    {
     "data": {
      "image/png": "[encoded data removed]",
      "text/plain": [
       "<matplotlib.figure.Figure at 0xca23f60>"
      ]
     },
     "metadata": {},
     "output_type": "display_data"
    }
   ],
   "source": [
    "plt.hist(df.total);"
   ]
  },
  {
   "cell_type": "code",
   "execution_count": 84,
   "metadata": {
    "collapsed": false
   },
   "outputs": [
    {
     "data": {
      "text/html": [
       "<div>\n",
       "<table border=\"1\" class=\"dataframe\">\n",
       "  <thead>\n",
       "    <tr style=\"text-align: right;\">\n",
       "      <th></th>\n",
       "      <th>FY 05/06</th>\n",
       "      <th>FY 06/07</th>\n",
       "      <th>FY 07/08</th>\n",
       "      <th>FY 08/09</th>\n",
       "      <th>FY 09/10</th>\n",
       "      <th>FY 10/11</th>\n",
       "      <th>FY 11/12</th>\n",
       "      <th>FY 12/13</th>\n",
       "      <th>Location 1</th>\n",
       "      <th>total</th>\n",
       "      <th>zip</th>\n",
       "      <th>latitude</th>\n",
       "      <th>longitude</th>\n",
       "    </tr>\n",
       "  </thead>\n",
       "  <tbody>\n",
       "    <tr>\n",
       "      <th>0</th>\n",
       "      <td>273</td>\n",
       "      <td>280</td>\n",
       "      <td>276</td>\n",
       "      <td>273</td>\n",
       "      <td>275</td>\n",
       "      <td>264</td>\n",
       "      <td>262</td>\n",
       "      <td>265</td>\n",
       "      <td>34.00184426500044, -118.22112680399971</td>\n",
       "      <td>273</td>\n",
       "      <td>90058</td>\n",
       "      <td>34.001844</td>\n",
       "      <td>-118.221127</td>\n",
       "    </tr>\n",
       "    <tr>\n",
       "      <th>1</th>\n",
       "      <td>399</td>\n",
       "      <td>413</td>\n",
       "      <td>419</td>\n",
       "      <td>413</td>\n",
       "      <td>400</td>\n",
       "      <td>394</td>\n",
       "      <td>390</td>\n",
       "      <td>411</td>\n",
       "      <td>34.10881395500047, -118.22766603799971</td>\n",
       "      <td>406</td>\n",
       "      <td>90065</td>\n",
       "      <td>34.108814</td>\n",
       "      <td>-118.227666</td>\n",
       "    </tr>\n",
       "    <tr>\n",
       "      <th>2</th>\n",
       "      <td>847</td>\n",
       "      <td>853</td>\n",
       "      <td>858</td>\n",
       "      <td>826</td>\n",
       "      <td>790</td>\n",
       "      <td>763</td>\n",
       "      <td>757</td>\n",
       "      <td>796</td>\n",
       "      <td>34.25282047300044, -118.5950275619997</td>\n",
       "      <td>811</td>\n",
       "      <td>91311</td>\n",
       "      <td>34.252820</td>\n",
       "      <td>-118.595028</td>\n",
       "    </tr>\n",
       "    <tr>\n",
       "      <th>3</th>\n",
       "      <td>344</td>\n",
       "      <td>348</td>\n",
       "      <td>350</td>\n",
       "      <td>340</td>\n",
       "      <td>343</td>\n",
       "      <td>334</td>\n",
       "      <td>332</td>\n",
       "      <td>341</td>\n",
       "      <td>33.927010235000466, -118.24839605799968</td>\n",
       "      <td>342</td>\n",
       "      <td>90059</td>\n",
       "      <td>33.927010</td>\n",
       "      <td>-118.248396</td>\n",
       "    </tr>\n",
       "    <tr>\n",
       "      <th>4</th>\n",
       "      <td>378</td>\n",
       "      <td>387</td>\n",
       "      <td>391</td>\n",
       "      <td>380</td>\n",
       "      <td>370</td>\n",
       "      <td>363</td>\n",
       "      <td>357</td>\n",
       "      <td>373</td>\n",
       "      <td>34.07572239300049, -118.30301712299968</td>\n",
       "      <td>376</td>\n",
       "      <td>90004</td>\n",
       "      <td>34.075722</td>\n",
       "      <td>-118.303017</td>\n",
       "    </tr>\n",
       "  </tbody>\n",
       "</table>\n",
       "</div>"
      ],
      "text/plain": [
       "   FY 05/06  FY 06/07  FY 07/08  FY 08/09  FY 09/10  FY 10/11  FY 11/12  \\\n",
       "0       273       280       276       273       275       264       262   \n",
       "1       399       413       419       413       400       394       390   \n",
       "2       847       853       858       826       790       763       757   \n",
       "3       344       348       350       340       343       334       332   \n",
       "4       378       387       391       380       370       363       357   \n",
       "\n",
       "   FY 12/13                               Location 1  total    zip   latitude  \\\n",
       "0       265   34.00184426500044, -118.22112680399971    273  90058  34.001844   \n",
       "1       411   34.10881395500047, -118.22766603799971    406  90065  34.108814   \n",
       "2       796    34.25282047300044, -118.5950275619997    811  91311  34.252820   \n",
       "3       341  33.927010235000466, -118.24839605799968    342  90059  33.927010   \n",
       "4       373   34.07572239300049, -118.30301712299968    376  90004  34.075722   \n",
       "\n",
       "    longitude  \n",
       "0 -118.221127  \n",
       "1 -118.227666  \n",
       "2 -118.595028  \n",
       "3 -118.248396  \n",
       "4 -118.303017  "
      ]
     },
     "execution_count": 84,
     "metadata": {},
     "output_type": "execute_result"
    }
   ],
   "source": [
    "df[\"zip\"] = df[\"Location 1\"].apply(lambda x: x.split(\"\\n\")[0])\n",
    "df[\"Location 1\"] = df[\"Location 1\"].apply(lambda x: x.split(\"\\n\")[1][1:-1])\n",
    "df[\"latitude\"] = df[\"Location 1\"].apply(lambda x: float(x.split(\",\")[0]))\n",
    "df[\"longitude\"] = df[\"Location 1\"].apply(lambda x: float(x.split(\",\")[1]))\n",
    "df.head()"
   ]
  },
  {
   "cell_type": "code",
   "execution_count": 87,
   "metadata": {
    "collapsed": false
   },
   "outputs": [
    {
     "data": {
      "text/plain": [
       "(63626, 13)"
      ]
     },
     "execution_count": 87,
     "metadata": {},
     "output_type": "execute_result"
    }
   ],
   "source": [
    "#Replicate rows in new dataframe to produce heatmap\n",
    "electric = df.copy()\n",
    "zipTotals = zip(df.zip.values, df.total.values)\n",
    "for combination in zipTotals:\n",
    "    zipSub = df[df[\"zip\"] == combination[0]]\n",
    "    for i in range(combination[1]):\n",
    "        electric = electric.append(zipSub)\n",
    "electric.shape"
   ]
  },
  {
   "cell_type": "code",
   "execution_count": 88,
   "metadata": {
    "collapsed": false
   },
   "outputs": [],
   "source": [
    "LA.heatmap(electric.latitude, electric.longitude)\n",
    "LA.draw(\"LAElectric.html\")"
   ]
  },
  {
   "cell_type": "code",
   "execution_count": null,
   "metadata": {
    "collapsed": true
   },
   "outputs": [],
   "source": []
  }
 ],
 "metadata": {
  "kernelspec": {
   "display_name": "Python 2",
   "language": "python",
   "name": "python2"
  },
  "language_info": {
   "codemirror_mode": {
    "name": "ipython",
    "version": 2
   },
   "file_extension": ".py",
   "mimetype": "text/x-python",
   "name": "python",
   "nbconvert_exporter": "python",
   "pygments_lexer": "ipython2",
   "version": "2.7.12"
  }
 },
 "nbformat": 4,
 "nbformat_minor": 0
}
