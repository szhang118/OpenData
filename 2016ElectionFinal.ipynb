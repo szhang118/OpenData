{
 "cells": [
  {
   "cell_type": "markdown",
   "metadata": {},
   "source": [
    "Analysis of 2016 Election individual donor contributions to Hillary Clinton and Donald Trump.  Data obtained from United States Federal Election Commission website.  Data analyzed with Python pandas package. \n",
    "\n",
    "URL for FEC data: http://www.fec.gov/disclosurep/PDownload.do\n",
    "\n",
    "The file downloaded was ALL.zip. Unzipped data is roughly 1.4 GBs."
   ]
  },
  {
   "cell_type": "code",
   "execution_count": 1,
   "metadata": {
    "collapsed": true
   },
   "outputs": [],
   "source": [
    "%matplotlib inline\n",
    "import matplotlib.pyplot as plt\n",
    "import numpy as np\n",
    "import pandas as pd"
   ]
  },
  {
   "cell_type": "code",
   "execution_count": 2,
   "metadata": {
    "collapsed": true
   },
   "outputs": [],
   "source": [
    "plt.style.use(\"fivethirtyeight\")"
   ]
  },
  {
   "cell_type": "code",
   "execution_count": 7,
   "metadata": {
    "collapsed": false
   },
   "outputs": [],
   "source": [
    "df = pd.read_csv(\"2016Election/2016President.csv\", parse_dates=True, index_col=None)"
   ]
  },
  {
   "cell_type": "code",
   "execution_count": 9,
   "metadata": {
    "collapsed": false
   },
   "outputs": [
    {
     "data": {
      "text/html": [
       "<div>\n",
       "<table border=\"1\" class=\"dataframe\">\n",
       "  <thead>\n",
       "    <tr style=\"text-align: right;\">\n",
       "      <th></th>\n",
       "      <th>cmte_id</th>\n",
       "      <th>cand_id</th>\n",
       "      <th>cand_nm</th>\n",
       "      <th>contbr_nm</th>\n",
       "      <th>contbr_city</th>\n",
       "      <th>contbr_st</th>\n",
       "      <th>contbr_zip</th>\n",
       "      <th>contbr_employer</th>\n",
       "      <th>contbr_occupation</th>\n",
       "      <th>contb_receipt_amt</th>\n",
       "      <th>contb_receipt_dt</th>\n",
       "      <th>receipt_desc</th>\n",
       "      <th>memo_cd</th>\n",
       "      <th>memo_text</th>\n",
       "      <th>form_tp</th>\n",
       "      <th>file_num</th>\n",
       "      <th>tran_id</th>\n",
       "      <th>election_tp</th>\n",
       "    </tr>\n",
       "  </thead>\n",
       "  <tbody>\n",
       "    <tr>\n",
       "      <th>C00458844</th>\n",
       "      <td>P60006723</td>\n",
       "      <td>Rubio, Marco</td>\n",
       "      <td>BLUM, MAUREEN</td>\n",
       "      <td>WASHINGTON</td>\n",
       "      <td>20</td>\n",
       "      <td>DC</td>\n",
       "      <td>STRATEGIC COALITIONS &amp; INITIATIVES LL</td>\n",
       "      <td>OUTREACH DIRECTOR</td>\n",
       "      <td>175.0</td>\n",
       "      <td>15-MAR-16</td>\n",
       "      <td>NaN</td>\n",
       "      <td>NaN</td>\n",
       "      <td>NaN</td>\n",
       "      <td>SA17A</td>\n",
       "      <td>1082559</td>\n",
       "      <td>SA17.1152124</td>\n",
       "      <td>P2016</td>\n",
       "      <td>NaN</td>\n",
       "    </tr>\n",
       "    <tr>\n",
       "      <th>C00458844</th>\n",
       "      <td>P60006723</td>\n",
       "      <td>Rubio, Marco</td>\n",
       "      <td>DODSON, MARK B. MR.</td>\n",
       "      <td>ATLANTA</td>\n",
       "      <td>30</td>\n",
       "      <td>GA</td>\n",
       "      <td>MORTGAGE CAPITAL ADVISORS</td>\n",
       "      <td>PRIVATE MORTGAGE BANKING</td>\n",
       "      <td>25.0</td>\n",
       "      <td>16-MAR-16</td>\n",
       "      <td>NaN</td>\n",
       "      <td>NaN</td>\n",
       "      <td>DEBT RETIREMENT</td>\n",
       "      <td>SA17A</td>\n",
       "      <td>1082559</td>\n",
       "      <td>SA17.1153048</td>\n",
       "      <td>P2016</td>\n",
       "      <td>NaN</td>\n",
       "    </tr>\n",
       "    <tr>\n",
       "      <th>C00458844</th>\n",
       "      <td>P60006723</td>\n",
       "      <td>Rubio, Marco</td>\n",
       "      <td>CHILDERS, WILLIAM</td>\n",
       "      <td>DPO</td>\n",
       "      <td>AE</td>\n",
       "      <td>098309998</td>\n",
       "      <td>DIPLOMAT</td>\n",
       "      <td>US GOVERNMENT</td>\n",
       "      <td>100.0</td>\n",
       "      <td>20-FEB-16</td>\n",
       "      <td>NaN</td>\n",
       "      <td>NaN</td>\n",
       "      <td>NaN</td>\n",
       "      <td>SA17A</td>\n",
       "      <td>1056862</td>\n",
       "      <td>SA17.1020839</td>\n",
       "      <td>P2016</td>\n",
       "      <td>NaN</td>\n",
       "    </tr>\n",
       "    <tr>\n",
       "      <th>C00458844</th>\n",
       "      <td>P60006723</td>\n",
       "      <td>Rubio, Marco</td>\n",
       "      <td>RUCINSKI, ROBERT</td>\n",
       "      <td>APO</td>\n",
       "      <td>AE</td>\n",
       "      <td>090960009</td>\n",
       "      <td>US ARMY</td>\n",
       "      <td>PHYSICIAN</td>\n",
       "      <td>200.0</td>\n",
       "      <td>10-MAR-16</td>\n",
       "      <td>NaN</td>\n",
       "      <td>NaN</td>\n",
       "      <td>NaN</td>\n",
       "      <td>SA17A</td>\n",
       "      <td>1082559</td>\n",
       "      <td>SA17.1078677</td>\n",
       "      <td>P2016</td>\n",
       "      <td>NaN</td>\n",
       "    </tr>\n",
       "    <tr>\n",
       "      <th>C00458844</th>\n",
       "      <td>P60006723</td>\n",
       "      <td>Rubio, Marco</td>\n",
       "      <td>RUCINSKI, ROBERT</td>\n",
       "      <td>APO</td>\n",
       "      <td>AE</td>\n",
       "      <td>090960009</td>\n",
       "      <td>US ARMY</td>\n",
       "      <td>PHYSICIAN</td>\n",
       "      <td>100.0</td>\n",
       "      <td>08-MAR-16</td>\n",
       "      <td>NaN</td>\n",
       "      <td>NaN</td>\n",
       "      <td>NaN</td>\n",
       "      <td>SA17A</td>\n",
       "      <td>1082559</td>\n",
       "      <td>SA17.1074981</td>\n",
       "      <td>P2016</td>\n",
       "      <td>NaN</td>\n",
       "    </tr>\n",
       "  </tbody>\n",
       "</table>\n",
       "</div>"
      ],
      "text/plain": [
       "             cmte_id       cand_id              cand_nm   contbr_nm  \\\n",
       "C00458844  P60006723  Rubio, Marco        BLUM, MAUREEN  WASHINGTON   \n",
       "C00458844  P60006723  Rubio, Marco  DODSON, MARK B. MR.     ATLANTA   \n",
       "C00458844  P60006723  Rubio, Marco    CHILDERS, WILLIAM         DPO   \n",
       "C00458844  P60006723  Rubio, Marco     RUCINSKI, ROBERT         APO   \n",
       "C00458844  P60006723  Rubio, Marco     RUCINSKI, ROBERT         APO   \n",
       "\n",
       "          contbr_city  contbr_st                             contbr_zip  \\\n",
       "C00458844          20         DC  STRATEGIC COALITIONS & INITIATIVES LL   \n",
       "C00458844          30         GA              MORTGAGE CAPITAL ADVISORS   \n",
       "C00458844          AE  098309998                               DIPLOMAT   \n",
       "C00458844          AE  090960009                                US ARMY   \n",
       "C00458844          AE  090960009                                US ARMY   \n",
       "\n",
       "                    contbr_employer  contbr_occupation contb_receipt_amt  \\\n",
       "C00458844         OUTREACH DIRECTOR              175.0         15-MAR-16   \n",
       "C00458844  PRIVATE MORTGAGE BANKING               25.0         16-MAR-16   \n",
       "C00458844             US GOVERNMENT              100.0         20-FEB-16   \n",
       "C00458844                 PHYSICIAN              200.0         10-MAR-16   \n",
       "C00458844                 PHYSICIAN              100.0         08-MAR-16   \n",
       "\n",
       "          contb_receipt_dt receipt_desc          memo_cd memo_text  form_tp  \\\n",
       "C00458844              NaN          NaN              NaN     SA17A  1082559   \n",
       "C00458844              NaN          NaN  DEBT RETIREMENT     SA17A  1082559   \n",
       "C00458844              NaN          NaN              NaN     SA17A  1056862   \n",
       "C00458844              NaN          NaN              NaN     SA17A  1082559   \n",
       "C00458844              NaN          NaN              NaN     SA17A  1082559   \n",
       "\n",
       "               file_num tran_id  election_tp  \n",
       "C00458844  SA17.1152124   P2016          NaN  \n",
       "C00458844  SA17.1153048   P2016          NaN  \n",
       "C00458844  SA17.1020839   P2016          NaN  \n",
       "C00458844  SA17.1078677   P2016          NaN  \n",
       "C00458844  SA17.1074981   P2016          NaN  "
      ]
     },
     "execution_count": 9,
     "metadata": {},
     "output_type": "execute_result"
    }
   ],
   "source": [
    "df.head()"
   ]
  },
  {
   "cell_type": "code",
   "execution_count": 12,
   "metadata": {
    "collapsed": false
   },
   "outputs": [
    {
     "data": {
      "text/html": [
       "<div>\n",
       "<table border=\"1\" class=\"dataframe\">\n",
       "  <thead>\n",
       "    <tr style=\"text-align: right;\">\n",
       "      <th></th>\n",
       "      <th>cand_id</th>\n",
       "      <th>cand_nm</th>\n",
       "      <th>contbr_nm</th>\n",
       "      <th>contbr_city</th>\n",
       "      <th>contbr_st</th>\n",
       "      <th>contbr_zip</th>\n",
       "      <th>contbr_employer</th>\n",
       "      <th>contbr_occupation</th>\n",
       "      <th>contb_receipt_amt</th>\n",
       "    </tr>\n",
       "  </thead>\n",
       "  <tbody>\n",
       "    <tr>\n",
       "      <th>C00458844</th>\n",
       "      <td>Rubio, Marco</td>\n",
       "      <td>BLUM, MAUREEN</td>\n",
       "      <td>WASHINGTON</td>\n",
       "      <td>20</td>\n",
       "      <td>DC</td>\n",
       "      <td>STRATEGIC COALITIONS &amp; INITIATIVES LL</td>\n",
       "      <td>OUTREACH DIRECTOR</td>\n",
       "      <td>175.0</td>\n",
       "      <td>15-MAR-16</td>\n",
       "    </tr>\n",
       "    <tr>\n",
       "      <th>C00458844</th>\n",
       "      <td>Rubio, Marco</td>\n",
       "      <td>DODSON, MARK B. MR.</td>\n",
       "      <td>ATLANTA</td>\n",
       "      <td>30</td>\n",
       "      <td>GA</td>\n",
       "      <td>MORTGAGE CAPITAL ADVISORS</td>\n",
       "      <td>PRIVATE MORTGAGE BANKING</td>\n",
       "      <td>25.0</td>\n",
       "      <td>16-MAR-16</td>\n",
       "    </tr>\n",
       "    <tr>\n",
       "      <th>C00458844</th>\n",
       "      <td>Rubio, Marco</td>\n",
       "      <td>CHILDERS, WILLIAM</td>\n",
       "      <td>DPO</td>\n",
       "      <td>AE</td>\n",
       "      <td>098309998</td>\n",
       "      <td>DIPLOMAT</td>\n",
       "      <td>US GOVERNMENT</td>\n",
       "      <td>100.0</td>\n",
       "      <td>20-FEB-16</td>\n",
       "    </tr>\n",
       "    <tr>\n",
       "      <th>C00458844</th>\n",
       "      <td>Rubio, Marco</td>\n",
       "      <td>RUCINSKI, ROBERT</td>\n",
       "      <td>APO</td>\n",
       "      <td>AE</td>\n",
       "      <td>090960009</td>\n",
       "      <td>US ARMY</td>\n",
       "      <td>PHYSICIAN</td>\n",
       "      <td>200.0</td>\n",
       "      <td>10-MAR-16</td>\n",
       "    </tr>\n",
       "    <tr>\n",
       "      <th>C00458844</th>\n",
       "      <td>Rubio, Marco</td>\n",
       "      <td>RUCINSKI, ROBERT</td>\n",
       "      <td>APO</td>\n",
       "      <td>AE</td>\n",
       "      <td>090960009</td>\n",
       "      <td>US ARMY</td>\n",
       "      <td>PHYSICIAN</td>\n",
       "      <td>100.0</td>\n",
       "      <td>08-MAR-16</td>\n",
       "    </tr>\n",
       "  </tbody>\n",
       "</table>\n",
       "</div>"
      ],
      "text/plain": [
       "                cand_id              cand_nm   contbr_nm contbr_city  \\\n",
       "C00458844  Rubio, Marco        BLUM, MAUREEN  WASHINGTON          20   \n",
       "C00458844  Rubio, Marco  DODSON, MARK B. MR.     ATLANTA          30   \n",
       "C00458844  Rubio, Marco    CHILDERS, WILLIAM         DPO          AE   \n",
       "C00458844  Rubio, Marco     RUCINSKI, ROBERT         APO          AE   \n",
       "C00458844  Rubio, Marco     RUCINSKI, ROBERT         APO          AE   \n",
       "\n",
       "           contbr_st                             contbr_zip  \\\n",
       "C00458844         DC  STRATEGIC COALITIONS & INITIATIVES LL   \n",
       "C00458844         GA              MORTGAGE CAPITAL ADVISORS   \n",
       "C00458844  098309998                               DIPLOMAT   \n",
       "C00458844  090960009                                US ARMY   \n",
       "C00458844  090960009                                US ARMY   \n",
       "\n",
       "                    contbr_employer  contbr_occupation contb_receipt_amt  \n",
       "C00458844         OUTREACH DIRECTOR              175.0         15-MAR-16  \n",
       "C00458844  PRIVATE MORTGAGE BANKING               25.0         16-MAR-16  \n",
       "C00458844             US GOVERNMENT              100.0         20-FEB-16  \n",
       "C00458844                 PHYSICIAN              200.0         10-MAR-16  \n",
       "C00458844                 PHYSICIAN              100.0         08-MAR-16  "
      ]
     },
     "execution_count": 12,
     "metadata": {},
     "output_type": "execute_result"
    }
   ],
   "source": [
    "#Columns to keep for analysis\n",
    "colsKeep = ['cand_id', 'cand_nm', 'contbr_nm', 'contbr_city', 'contbr_st', 'contbr_zip', 'contbr_employer',\n",
    "           'contbr_occupation', 'contb_receipt_amt']\n",
    "df = df[colsKeep]"
   ]
  },
  {
   "cell_type": "code",
   "execution_count": 13,
   "metadata": {
    "collapsed": false
   },
   "outputs": [
    {
     "data": {
      "text/html": [
       "<div>\n",
       "<table border=\"1\" class=\"dataframe\">\n",
       "  <thead>\n",
       "    <tr style=\"text-align: right;\">\n",
       "      <th></th>\n",
       "      <th>candidate</th>\n",
       "      <th>name</th>\n",
       "      <th>city</th>\n",
       "      <th>state</th>\n",
       "      <th>zip</th>\n",
       "      <th>employer</th>\n",
       "      <th>occupation</th>\n",
       "      <th>amount</th>\n",
       "      <th>date</th>\n",
       "    </tr>\n",
       "  </thead>\n",
       "  <tbody>\n",
       "    <tr>\n",
       "      <th>C00623884</th>\n",
       "      <td>McMullin, Evan</td>\n",
       "      <td>GREER, DEBRA</td>\n",
       "      <td>EVANSTON</td>\n",
       "      <td>WY</td>\n",
       "      <td>82930</td>\n",
       "      <td>SELF-EMPLOYED</td>\n",
       "      <td>MEDICAL TRANSCRIPTION</td>\n",
       "      <td>250.0</td>\n",
       "      <td>12-OCT-16</td>\n",
       "    </tr>\n",
       "    <tr>\n",
       "      <th>C00623884</th>\n",
       "      <td>McMullin, Evan</td>\n",
       "      <td>ASTLE, BECKY</td>\n",
       "      <td>GROVER</td>\n",
       "      <td>WY</td>\n",
       "      <td>83122</td>\n",
       "      <td>LINCOLN COUNTY LIBRARY SYSTEM</td>\n",
       "      <td>LIBRARIAN</td>\n",
       "      <td>50.0</td>\n",
       "      <td>15-SEP-16</td>\n",
       "    </tr>\n",
       "    <tr>\n",
       "      <th>C00623884</th>\n",
       "      <td>McMullin, Evan</td>\n",
       "      <td>GREER, DEBRA</td>\n",
       "      <td>EVANSTON</td>\n",
       "      <td>WY</td>\n",
       "      <td>82930</td>\n",
       "      <td>SELF-EMPLOYED</td>\n",
       "      <td>MEDICAL TRANSCRIPTION</td>\n",
       "      <td>200.0</td>\n",
       "      <td>06-NOV-16</td>\n",
       "    </tr>\n",
       "    <tr>\n",
       "      <th>C00623884</th>\n",
       "      <td>McMullin, Evan</td>\n",
       "      <td>MCCORT, HANNAH</td>\n",
       "      <td>LARAMIE</td>\n",
       "      <td>WY</td>\n",
       "      <td>82072</td>\n",
       "      <td>SELF</td>\n",
       "      <td>STAY AT HOME MOM</td>\n",
       "      <td>100.0</td>\n",
       "      <td>04-NOV-16</td>\n",
       "    </tr>\n",
       "    <tr>\n",
       "      <th>C00623884</th>\n",
       "      <td>McMullin, Evan</td>\n",
       "      <td>KERTESZ, JOHN</td>\n",
       "      <td>GILLETTE</td>\n",
       "      <td>WY</td>\n",
       "      <td>82718</td>\n",
       "      <td>TATA CHEMICALS</td>\n",
       "      <td>HR MANAGER</td>\n",
       "      <td>250.0</td>\n",
       "      <td>31-OCT-16</td>\n",
       "    </tr>\n",
       "  </tbody>\n",
       "</table>\n",
       "</div>"
      ],
      "text/plain": [
       "                candidate            name      city state    zip  \\\n",
       "C00623884  McMullin, Evan    GREER, DEBRA  EVANSTON    WY  82930   \n",
       "C00623884  McMullin, Evan    ASTLE, BECKY    GROVER    WY  83122   \n",
       "C00623884  McMullin, Evan    GREER, DEBRA  EVANSTON    WY  82930   \n",
       "C00623884  McMullin, Evan  MCCORT, HANNAH   LARAMIE    WY  82072   \n",
       "C00623884  McMullin, Evan   KERTESZ, JOHN  GILLETTE    WY  82718   \n",
       "\n",
       "                                employer             occupation  amount  \\\n",
       "C00623884                  SELF-EMPLOYED  MEDICAL TRANSCRIPTION   250.0   \n",
       "C00623884  LINCOLN COUNTY LIBRARY SYSTEM              LIBRARIAN    50.0   \n",
       "C00623884                  SELF-EMPLOYED  MEDICAL TRANSCRIPTION   200.0   \n",
       "C00623884                           SELF       STAY AT HOME MOM   100.0   \n",
       "C00623884                 TATA CHEMICALS             HR MANAGER   250.0   \n",
       "\n",
       "                date  \n",
       "C00623884  12-OCT-16  \n",
       "C00623884  15-SEP-16  \n",
       "C00623884  06-NOV-16  \n",
       "C00623884  04-NOV-16  \n",
       "C00623884  31-OCT-16  "
      ]
     },
     "execution_count": 13,
     "metadata": {},
     "output_type": "execute_result"
    }
   ],
   "source": [
    "#Rename columns \n",
    "df.columns = [\"candidate\", \"name\", \"city\", \"state\", \"zip\", \"employer\", \"occupation\", \"amount\", \"date\"]\n",
    "df.tail()"
   ]
  },
  {
   "cell_type": "code",
   "execution_count": 15,
   "metadata": {
    "collapsed": false
   },
   "outputs": [],
   "source": [
    "#Clean up date formatting and add month and year columns\n",
    "df.date = pd.to_datetime(df.date, format=\"%d-%b-%y\")\n",
    "df['month'] = df.date.apply(lambda x: x.month)\n",
    "df[\"year\"] = df.date.apply(lambda x: x.year)"
   ]
  },
  {
   "cell_type": "code",
   "execution_count": null,
   "metadata": {
    "collapsed": false
   },
   "outputs": [],
   "source": []
  },
  {
   "cell_type": "code",
   "execution_count": 17,
   "metadata": {
    "collapsed": false
   },
   "outputs": [
    {
     "name": "stdout",
     "output_type": "stream",
     "text": [
      "(7440252, 11)\n"
     ]
    }
   ],
   "source": [
    "print df.shape"
   ]
  },
  {
   "cell_type": "code",
   "execution_count": 19,
   "metadata": {
    "collapsed": false
   },
   "outputs": [
    {
     "name": "stdout",
     "output_type": "stream",
     "text": [
      "(4288792, 11)\n"
     ]
    }
   ],
   "source": [
    "#Restrict to analyzing Hillary Clinton and Donald Trump\n",
    "candidates = [\"Clinton, Hillary Rodham\", \"Trump, Donald J.\"]\n",
    "pdf = df[df.candidate.isin(candidates)]\n",
    "print pdf.shape"
   ]
  },
  {
   "cell_type": "code",
   "execution_count": 21,
   "metadata": {
    "collapsed": false
   },
   "outputs": [
    {
     "name": "stdout",
     "output_type": "stream",
     "text": [
      "(4055886, 11)\n"
     ]
    }
   ],
   "source": [
    "#Restrict to 2016 contributions and positive donation amounts\n",
    "pdf = pdf[(pdf.year == 2016) & (pdf.amount > 0)]\n",
    "print pdf.shape"
   ]
  },
  {
   "cell_type": "code",
   "execution_count": 22,
   "metadata": {
    "collapsed": true
   },
   "outputs": [],
   "source": [
    "#reformat names\n",
    "name_map = {\"Clinton, Hillary Rodham\": \"Clinton\", \"Trump, Donald J.\": \"Trump\"}\n",
    "pdf.candidate = pdf.candidate.map(name_map)"
   ]
  },
  {
   "cell_type": "code",
   "execution_count": 24,
   "metadata": {
    "collapsed": false
   },
   "outputs": [
    {
     "data": {
      "text/plain": [
       "Clinton    3297562\n",
       "Trump       758324\n",
       "Name: candidate, dtype: int64"
      ]
     },
     "execution_count": 24,
     "metadata": {},
     "output_type": "execute_result"
    }
   ],
   "source": [
    "pdf.candidate.value_counts()"
   ]
  },
  {
   "cell_type": "code",
   "execution_count": 25,
   "metadata": {
    "collapsed": true
   },
   "outputs": [],
   "source": []
  },
  {
   "cell_type": "code",
   "execution_count": 27,
   "metadata": {
    "collapsed": false
   },
   "outputs": [
    {
     "data": {
      "text/plain": [
       "RETIRED             1126900\n",
       "NOT PROVIDED         226725\n",
       "ATTORNEY             140039\n",
       "TEACHER               79216\n",
       "PHYSICIAN             73128\n",
       "PROFESSOR             71291\n",
       "HOMEMAKER             64726\n",
       "NOT EMPLOYED          56694\n",
       "CONSULTANT            54497\n",
       "LAWYER                42375\n",
       "MANAGER               33773\n",
       "SALES                 33078\n",
       "ENGINEER              32217\n",
       "WRITER                30326\n",
       "STUDENT               21269\n",
       "REGISTERED NURSE      20749\n",
       "OWNER                 20189\n",
       "EDUCATOR              20119\n",
       "CEO                   18367\n",
       "PSYCHOLOGIST          17556\n",
       "Name: occupation, dtype: int64"
      ]
     },
     "execution_count": 27,
     "metadata": {},
     "output_type": "execute_result"
    }
   ],
   "source": [
    "#Clean up occupation column data\n",
    "occ_mapping = {\n",
    "'INFORMATION REQUESTED PER BEST EFFORTS' : 'NOT PROVIDED',\n",
    "'INFORMATION REQUESTED' : 'NOT PROVIDED',\n",
    "'INFORMATION REQUESTED (BEST EFFORTS)' : 'NOT PROVIDED',\n",
    "'C.E.O.': 'CEO',\n",
    "'SELF-EMPLOYED': 'SELF EMPLOYED',\n",
    "'NONE': 'NOT EMPLOYED'    \n",
    "}\n",
    "f = lambda x: occ_mapping.get(x, x)\n",
    "pdf.occupation = pdf.occupation.map(f)\n",
    "pdf.occupation.value_counts().head(20)"
   ]
  },
  {
   "cell_type": "code",
   "execution_count": 29,
   "metadata": {
    "collapsed": false
   },
   "outputs": [],
   "source": [
    "emp_mapping = {\n",
    "'INFORMATION REQUESTED PER BEST EFFORTS' : 'NOT PROVIDED',\n",
    "'INFORMATION REQUESTED' : 'NOT PROVIDED',\n",
    "'SELF' : 'SELF-EMPLOYED',\n",
    "'SELF EMPLOYED' : 'SELF-EMPLOYED',\n",
    "'NONE': 'NOT EMPLOYED',\n",
    "'UNEMPLOYED': 'NOT EMPLOYED',\n",
    "'MR.': 'NOT EMPLOYED',\n",
    "'MS.': 'NOT EMPLOYED',\n",
    "'REFUSED': 'NOT PROVIDED'\n",
    "}\n",
    "f = lambda x: emp_mapping.get(x, x)\n",
    "pdf.employer = pdf.employer.map(f)"
   ]
  },
  {
   "cell_type": "code",
   "execution_count": 33,
   "metadata": {
    "collapsed": false
   },
   "outputs": [
    {
     "data": {
      "text/plain": [
       "RETIRED                     469930\n",
       "SELF-EMPLOYED               466599\n",
       "NOT PROVIDED                225971\n",
       "NOT EMPLOYED                 50204\n",
       "HOMEMAKER                     7984\n",
       "GOOGLE                        5239\n",
       "U.S. GOVERNMENT               5205\n",
       "IBM                           4587\n",
       "DISABLED                      4586\n",
       "AT&T                          4230\n",
       "MICROSOFT                     4117\n",
       "KAISER PERMANENTE             4036\n",
       "U.S. POSTAL SERVICE           3965\n",
       "STATE OF CALIFORNIA           3749\n",
       "WELLS FARGO                   3665\n",
       "NEW YORK UNIVERSITY           3228\n",
       "U.S. DEPARTMENT OF STATE      3112\n",
       "APPLE INC.                    3047\n",
       "U.S. ARMY                     2995\n",
       "HARVARD UNIVERSITY            2835\n",
       "COLUMBIA UNIVERSITY           2770\n",
       "UNIVERSITY OF MICHIGAN        2705\n",
       "STANFORD UNIVERSITY           2685\n",
       "BANK OF AMERICA               2536\n",
       "UNIVERSITY OF CALIFORNIA      2464\n",
       "Name: employer, dtype: int64"
      ]
     },
     "execution_count": 33,
     "metadata": {},
     "output_type": "execute_result"
    }
   ],
   "source": [
    "pdf.employer.value_counts().head(25) #Top 25 most common employers listed"
   ]
  },
  {
   "cell_type": "code",
   "execution_count": 34,
   "metadata": {
    "collapsed": true
   },
   "outputs": [],
   "source": [
    "generic = ['RETIRED', 'SELF-EMPLOYED', 'NOT EMPLOYED', 'NOT PROVIDED', 'HOMEMAKER', 'STUDENT', \"DISABLED\"]"
   ]
  },
  {
   "cell_type": "code",
   "execution_count": 36,
   "metadata": {
    "collapsed": false
   },
   "outputs": [
    {
     "data": {
      "text/html": [
       "<div>\n",
       "<table border=\"1\" class=\"dataframe\">\n",
       "  <thead>\n",
       "    <tr style=\"text-align: right;\">\n",
       "      <th></th>\n",
       "      <th>candidate</th>\n",
       "      <th>name</th>\n",
       "      <th>city</th>\n",
       "      <th>state</th>\n",
       "      <th>zip</th>\n",
       "      <th>employer</th>\n",
       "      <th>occupation</th>\n",
       "      <th>amount</th>\n",
       "      <th>date</th>\n",
       "      <th>month</th>\n",
       "      <th>year</th>\n",
       "    </tr>\n",
       "  </thead>\n",
       "  <tbody>\n",
       "    <tr>\n",
       "      <th>C00575795</th>\n",
       "      <td>Clinton</td>\n",
       "      <td>DYSON, LISA</td>\n",
       "      <td>DPO</td>\n",
       "      <td>AA</td>\n",
       "      <td>340040305</td>\n",
       "      <td>U.S. DEPARTMENT OF DEFENSE</td>\n",
       "      <td>STAFF OFFICER</td>\n",
       "      <td>152.24</td>\n",
       "      <td>2016-02-24</td>\n",
       "      <td>Feb</td>\n",
       "      <td>2016</td>\n",
       "    </tr>\n",
       "    <tr>\n",
       "      <th>C00575795</th>\n",
       "      <td>Clinton</td>\n",
       "      <td>LARSEN, CARLENE</td>\n",
       "      <td>DPO</td>\n",
       "      <td>AA</td>\n",
       "      <td>340049997</td>\n",
       "      <td>U.S. DEPARTMENT OF STATE</td>\n",
       "      <td>LOGISTICS ADVISOR</td>\n",
       "      <td>15.00</td>\n",
       "      <td>2016-04-06</td>\n",
       "      <td>Apr</td>\n",
       "      <td>2016</td>\n",
       "    </tr>\n",
       "    <tr>\n",
       "      <th>C00575795</th>\n",
       "      <td>Clinton</td>\n",
       "      <td>TREICHEL, SHANNA</td>\n",
       "      <td>DPO</td>\n",
       "      <td>AA</td>\n",
       "      <td>340049997</td>\n",
       "      <td>SELF-EMPLOYED</td>\n",
       "      <td>PUBLIC RELATIONS CONSULTANT</td>\n",
       "      <td>100.00</td>\n",
       "      <td>2016-07-26</td>\n",
       "      <td>Jul</td>\n",
       "      <td>2016</td>\n",
       "    </tr>\n",
       "    <tr>\n",
       "      <th>C00575795</th>\n",
       "      <td>Clinton</td>\n",
       "      <td>ROBINSON, TODD</td>\n",
       "      <td>DPO</td>\n",
       "      <td>AA</td>\n",
       "      <td>340240001</td>\n",
       "      <td>U.S. DEPARTMENT OF STATE</td>\n",
       "      <td>DIPLOMAT</td>\n",
       "      <td>250.00</td>\n",
       "      <td>2016-07-29</td>\n",
       "      <td>Jul</td>\n",
       "      <td>2016</td>\n",
       "    </tr>\n",
       "    <tr>\n",
       "      <th>C00575795</th>\n",
       "      <td>Clinton</td>\n",
       "      <td>DYSON, LISA</td>\n",
       "      <td>DPO</td>\n",
       "      <td>AA</td>\n",
       "      <td>340040305</td>\n",
       "      <td>U.S. DEPARTMENT OF DEFENSE</td>\n",
       "      <td>STAFF OFFICER</td>\n",
       "      <td>50.00</td>\n",
       "      <td>2016-02-12</td>\n",
       "      <td>Feb</td>\n",
       "      <td>2016</td>\n",
       "    </tr>\n",
       "  </tbody>\n",
       "</table>\n",
       "</div>"
      ],
      "text/plain": [
       "          candidate              name city state        zip  \\\n",
       "C00575795   Clinton       DYSON, LISA  DPO    AA  340040305   \n",
       "C00575795   Clinton   LARSEN, CARLENE  DPO    AA  340049997   \n",
       "C00575795   Clinton  TREICHEL, SHANNA  DPO    AA  340049997   \n",
       "C00575795   Clinton    ROBINSON, TODD  DPO    AA  340240001   \n",
       "C00575795   Clinton       DYSON, LISA  DPO    AA  340040305   \n",
       "\n",
       "                             employer                   occupation  amount  \\\n",
       "C00575795  U.S. DEPARTMENT OF DEFENSE                STAFF OFFICER  152.24   \n",
       "C00575795    U.S. DEPARTMENT OF STATE            LOGISTICS ADVISOR   15.00   \n",
       "C00575795               SELF-EMPLOYED  PUBLIC RELATIONS CONSULTANT  100.00   \n",
       "C00575795    U.S. DEPARTMENT OF STATE                     DIPLOMAT  250.00   \n",
       "C00575795  U.S. DEPARTMENT OF DEFENSE                STAFF OFFICER   50.00   \n",
       "\n",
       "                date month  year  \n",
       "C00575795 2016-02-24   Feb  2016  \n",
       "C00575795 2016-04-06   Apr  2016  \n",
       "C00575795 2016-07-26   Jul  2016  \n",
       "C00575795 2016-07-29   Jul  2016  \n",
       "C00575795 2016-02-12   Feb  2016  "
      ]
     },
     "execution_count": 36,
     "metadata": {},
     "output_type": "execute_result"
    }
   ],
   "source": [
    "month_map = {1:'Jan', 2:'Feb', 3:'Mar', 4:'Apr', 5:'May', 6:'Jun', 7:'Jul', 8:'Aug', 9:'Sep', 10:'Oct', 11:'Nov', 12:'Dec'}\n",
    "pdf.month = pdf.month.map(month_map)\n",
    "pdf.head()"
   ]
  },
  {
   "cell_type": "code",
   "execution_count": 86,
   "metadata": {
    "collapsed": true
   },
   "outputs": [],
   "source": [
    "def clean_zip(zipcode):\n",
    "    #Reduce zipcode to 5 digit format if possible\n",
    "    try:\n",
    "        string_zip = str(zipcode)\n",
    "        return int(string_zip[:5])\n",
    "    except:\n",
    "        return zipcode"
   ]
  },
  {
   "cell_type": "code",
   "execution_count": 87,
   "metadata": {
    "collapsed": true
   },
   "outputs": [],
   "source": [
    "pdf[\"zip\"] = pdf[\"zip\"].apply(lambda x: clean_zip(x))"
   ]
  },
  {
   "cell_type": "code",
   "execution_count": 89,
   "metadata": {
    "collapsed": true
   },
   "outputs": [],
   "source": [
    "pdf[\"month\"] = pdf.month.apply(lambda x: str(x))\n",
    "pdf.year = pdf.year.apply(lambda x: int(x))\n",
    "pdf.amount = pdf.amount.apply(lambda x: float(x))\n",
    "pdf.occupation = pdf.occupation.apply(lambda x: str(x))\n",
    "pdf.employer = pdf.employer.apply(lambda x: str(x))\n",
    "pdf.state = pdf.state.apply(lambda x: str(x))\n",
    "pdf.candidate = pdf.candidate.apply(lambda x: str(x))\n",
    "pdf.city = pdf.city.apply(lambda x: str(x))\n",
    "pdf.name = pdf.name.apply(lambda x: str(x))"
   ]
  },
  {
   "cell_type": "code",
   "execution_count": 93,
   "metadata": {
    "collapsed": true
   },
   "outputs": [],
   "source": [
    "pdf.to_csv(\"2016Election/ClintonTrump.csv\")"
   ]
  },
  {
   "cell_type": "code",
   "execution_count": 3,
   "metadata": {
    "collapsed": false
   },
   "outputs": [
    {
     "name": "stderr",
     "output_type": "stream",
     "text": [
      "C:\\Users\\Steve\\Anaconda2\\envs\\dato-env\\lib\\site-packages\\IPython\\core\\interactiveshell.py:2871: DtypeWarning: Columns (5) have mixed types. Specify dtype option on import or set low_memory=False.\n",
      "  interactivity=interactivity, compiler=compiler, result=result)\n"
     ]
    }
   ],
   "source": [
    "pdf = pd.read_csv(\"2016Election/ClintonTrump.csv\")"
   ]
  },
  {
   "cell_type": "code",
   "execution_count": 4,
   "metadata": {
    "collapsed": false
   },
   "outputs": [
    {
     "data": {
      "text/html": [
       "<div>\n",
       "<table border=\"1\" class=\"dataframe\">\n",
       "  <thead>\n",
       "    <tr style=\"text-align: right;\">\n",
       "      <th></th>\n",
       "      <th>Unnamed: 0</th>\n",
       "      <th>candidate</th>\n",
       "      <th>name</th>\n",
       "      <th>city</th>\n",
       "      <th>state</th>\n",
       "      <th>zip</th>\n",
       "      <th>employer</th>\n",
       "      <th>occupation</th>\n",
       "      <th>amount</th>\n",
       "      <th>date</th>\n",
       "      <th>month</th>\n",
       "      <th>year</th>\n",
       "    </tr>\n",
       "  </thead>\n",
       "  <tbody>\n",
       "    <tr>\n",
       "      <th>0</th>\n",
       "      <td>C00575795</td>\n",
       "      <td>Clinton</td>\n",
       "      <td>DYSON, LISA</td>\n",
       "      <td>DPO</td>\n",
       "      <td>AA</td>\n",
       "      <td>34004</td>\n",
       "      <td>U.S. DEPARTMENT OF DEFENSE</td>\n",
       "      <td>STAFF OFFICER</td>\n",
       "      <td>152.24</td>\n",
       "      <td>2016-02-24</td>\n",
       "      <td>Feb</td>\n",
       "      <td>2016</td>\n",
       "    </tr>\n",
       "    <tr>\n",
       "      <th>1</th>\n",
       "      <td>C00575795</td>\n",
       "      <td>Clinton</td>\n",
       "      <td>LARSEN, CARLENE</td>\n",
       "      <td>DPO</td>\n",
       "      <td>AA</td>\n",
       "      <td>34004</td>\n",
       "      <td>U.S. DEPARTMENT OF STATE</td>\n",
       "      <td>LOGISTICS ADVISOR</td>\n",
       "      <td>15.00</td>\n",
       "      <td>2016-04-06</td>\n",
       "      <td>Apr</td>\n",
       "      <td>2016</td>\n",
       "    </tr>\n",
       "    <tr>\n",
       "      <th>2</th>\n",
       "      <td>C00575795</td>\n",
       "      <td>Clinton</td>\n",
       "      <td>TREICHEL, SHANNA</td>\n",
       "      <td>DPO</td>\n",
       "      <td>AA</td>\n",
       "      <td>34004</td>\n",
       "      <td>SELF-EMPLOYED</td>\n",
       "      <td>PUBLIC RELATIONS CONSULTANT</td>\n",
       "      <td>100.00</td>\n",
       "      <td>2016-07-26</td>\n",
       "      <td>Jul</td>\n",
       "      <td>2016</td>\n",
       "    </tr>\n",
       "    <tr>\n",
       "      <th>3</th>\n",
       "      <td>C00575795</td>\n",
       "      <td>Clinton</td>\n",
       "      <td>ROBINSON, TODD</td>\n",
       "      <td>DPO</td>\n",
       "      <td>AA</td>\n",
       "      <td>34024</td>\n",
       "      <td>U.S. DEPARTMENT OF STATE</td>\n",
       "      <td>DIPLOMAT</td>\n",
       "      <td>250.00</td>\n",
       "      <td>2016-07-29</td>\n",
       "      <td>Jul</td>\n",
       "      <td>2016</td>\n",
       "    </tr>\n",
       "    <tr>\n",
       "      <th>4</th>\n",
       "      <td>C00575795</td>\n",
       "      <td>Clinton</td>\n",
       "      <td>DYSON, LISA</td>\n",
       "      <td>DPO</td>\n",
       "      <td>AA</td>\n",
       "      <td>34004</td>\n",
       "      <td>U.S. DEPARTMENT OF DEFENSE</td>\n",
       "      <td>STAFF OFFICER</td>\n",
       "      <td>50.00</td>\n",
       "      <td>2016-02-12</td>\n",
       "      <td>Feb</td>\n",
       "      <td>2016</td>\n",
       "    </tr>\n",
       "  </tbody>\n",
       "</table>\n",
       "</div>"
      ],
      "text/plain": [
       "  Unnamed: 0 candidate              name city state    zip  \\\n",
       "0  C00575795   Clinton       DYSON, LISA  DPO    AA  34004   \n",
       "1  C00575795   Clinton   LARSEN, CARLENE  DPO    AA  34004   \n",
       "2  C00575795   Clinton  TREICHEL, SHANNA  DPO    AA  34004   \n",
       "3  C00575795   Clinton    ROBINSON, TODD  DPO    AA  34024   \n",
       "4  C00575795   Clinton       DYSON, LISA  DPO    AA  34004   \n",
       "\n",
       "                     employer                   occupation  amount  \\\n",
       "0  U.S. DEPARTMENT OF DEFENSE                STAFF OFFICER  152.24   \n",
       "1    U.S. DEPARTMENT OF STATE            LOGISTICS ADVISOR   15.00   \n",
       "2               SELF-EMPLOYED  PUBLIC RELATIONS CONSULTANT  100.00   \n",
       "3    U.S. DEPARTMENT OF STATE                     DIPLOMAT  250.00   \n",
       "4  U.S. DEPARTMENT OF DEFENSE                STAFF OFFICER   50.00   \n",
       "\n",
       "         date month  year  \n",
       "0  2016-02-24   Feb  2016  \n",
       "1  2016-04-06   Apr  2016  \n",
       "2  2016-07-26   Jul  2016  \n",
       "3  2016-07-29   Jul  2016  \n",
       "4  2016-02-12   Feb  2016  "
      ]
     },
     "execution_count": 4,
     "metadata": {},
     "output_type": "execute_result"
    }
   ],
   "source": [
    "pdf.head()"
   ]
  },
  {
   "cell_type": "code",
   "execution_count": 5,
   "metadata": {
    "collapsed": true
   },
   "outputs": [],
   "source": [
    "def cand_ts(candidate, prop = False):\n",
    "    #Amount by month in 2016\n",
    "    cand = pdf[pdf.candidate == candidate]\n",
    "    group = cand.groupby(\"month\").agg(sum)[\"amount\"]\n",
    "    monthList = ['Jan', 'Feb', 'Mar', 'Apr', 'May', 'Jun', 'Jul', 'Aug','Sep', 'Oct', 'Nov']\n",
    "    if prop: #If True displays bar graph as percentage of maximum contribution month\n",
    "        group = group.div(group.max())\n",
    "    group.ix[monthList].plot(kind = \"bar\")\n",
    "    plt.xlabel(\"Month\")\n",
    "    plt.ylabel(\"$\")"
   ]
  },
  {
   "cell_type": "code",
   "execution_count": 6,
   "metadata": {
    "collapsed": false
   },
   "outputs": [
    {
     "data": {
      "image/png": "[encoded data removed]",
      "text/plain": [
       "<matplotlib.figure.Figure at 0x2cd35e80>"
      ]
     },
     "metadata": {},
     "output_type": "display_data"
    }
   ],
   "source": [
    "cand_ts(\"Trump\", True)"
   ]
  },
  {
   "cell_type": "code",
   "execution_count": 41,
   "metadata": {
    "collapsed": false
   },
   "outputs": [
    {
     "data": {
      "image/png": "[encoded data removed]",
      "text/plain": [
       "<matplotlib.figure.Figure at 0x62f37e80>"
      ]
     },
     "metadata": {},
     "output_type": "display_data"
    }
   ],
   "source": [
    "cand_ts(\"Clinton\", True)"
   ]
  },
  {
   "cell_type": "code",
   "execution_count": null,
   "metadata": {
    "collapsed": false
   },
   "outputs": [],
   "source": []
  },
  {
   "cell_type": "code",
   "execution_count": 20,
   "metadata": {
    "collapsed": true
   },
   "outputs": [],
   "source": [
    "def share_by_field(field, values):\n",
    "    #Function for plotting share of donations by field and user-selected values\n",
    "    sub = pdf[pdf[field].isin(set(values))] #subset overall dataframe\n",
    "    group = sub.groupby([\"candidate\", field])\n",
    "    bucket_sums = group.amount.sum().unstack(0) #place into 2 column format\n",
    "    normed_sums = bucket_sums.div(bucket_sums.sum(axis = 1), axis = 0)\n",
    "    normed_sums.plot(kind=\"barh\", figsize=(8, 8))\n",
    "    plt.xlabel(\"Proportion\")"
   ]
  },
  {
   "cell_type": "code",
   "execution_count": 23,
   "metadata": {
    "collapsed": false
   },
   "outputs": [
    {
     "data": {
      "image/png": "[encoded data removed]",
      "text/plain": [
       "<matplotlib.figure.Figure at 0x1fdd7ba8>"
      ]
     },
     "metadata": {},
     "output_type": "display_data"
    }
   ],
   "source": [
    "share_by_field(\"zip\", [90405, 10001, 49931]) #Share of donations by selected states"
   ]
  },
  {
   "cell_type": "code",
   "execution_count": 28,
   "metadata": {
    "collapsed": false
   },
   "outputs": [
    {
     "data": {
      "image/png": "[encoded data removed]",
      "text/plain": [
       "<matplotlib.figure.Figure at 0x1f51b438>"
      ]
     },
     "metadata": {},
     "output_type": "display_data"
    }
   ],
   "source": [
    "share_by_field(\"state\", [\"PA\", \"MI\", \"FL\", \"OH\"])"
   ]
  },
  {
   "cell_type": "code",
   "execution_count": 29,
   "metadata": {
    "collapsed": false
   },
   "outputs": [
    {
     "data": {
      "image/png": "[encoded data removed]",
      "text/plain": [
       "<matplotlib.figure.Figure at 0x2b0697f0>"
      ]
     },
     "metadata": {},
     "output_type": "display_data"
    }
   ],
   "source": [
    "share_by_field(\"city\", [\"DETROIT\", \"LOS ANGELES\", \"MIAMI\", \"SEATTLE\", \"BOSTON\"])"
   ]
  },
  {
   "cell_type": "code",
   "execution_count": 42,
   "metadata": {
    "collapsed": false
   },
   "outputs": [
    {
     "name": "stderr",
     "output_type": "stream",
     "text": [
      "C:\\Users\\Steve\\Anaconda2\\envs\\dato-env\\lib\\site-packages\\IPython\\kernel\\__main__.py:3: FutureWarning: order is deprecated, use sort_values(...)\n",
      "  app.launch_new_instance()\n"
     ]
    },
    {
     "data": {
      "text/plain": [
       "candidate\n",
       "Trump      520469\n",
       "Clinton    467237\n",
       "Name: name, dtype: int64"
      ]
     },
     "execution_count": 42,
     "metadata": {},
     "output_type": "execute_result"
    }
   ],
   "source": [
    "#Number of unique contributors by candidate\n",
    "num_cont = pdf.groupby(\"candidate\")[\"name\"].agg(lambda x: np.size(np.unique(x.values)))\n",
    "order_num_cont = num_cont.order(ascending = False)\n",
    "order_num_cont"
   ]
  },
  {
   "cell_type": "code",
   "execution_count": 48,
   "metadata": {
    "collapsed": false
   },
   "outputs": [
    {
     "data": {
      "text/plain": [
       "candidate\n",
       "Trump      72.3\n",
       "Clinton    25.0\n",
       "Name: amount, dtype: float64"
      ]
     },
     "execution_count": 48,
     "metadata": {},
     "output_type": "execute_result"
    }
   ],
   "source": [
    "#Median contribution amount by candidate\n",
    "by_median = pdf.groupby(\"candidate\")[\"amount\"].agg(np.median)\n",
    "by_median.sort_values(ascending = False)"
   ]
  },
  {
   "cell_type": "code",
   "execution_count": 52,
   "metadata": {
    "collapsed": false
   },
   "outputs": [],
   "source": [
    "def cand_city(candidate):\n",
    "    #Top 10 cities contributing to a particular candidate\n",
    "    cand = pdf[pdf.candidate == candidate]\n",
    "    city = cand.groupby(\"city\")[\"amount\"].agg(sum)\n",
    "    city.sort_values(ascending = False).head(10).plot(kind = \"bar\")"
   ]
  },
  {
   "cell_type": "code",
   "execution_count": 53,
   "metadata": {
    "collapsed": false
   },
   "outputs": [
    {
     "data": {
      "image/png": "[encoded data removed]",
      "text/plain": [
       "<matplotlib.figure.Figure at 0x4e4006a0>"
      ]
     },
     "metadata": {},
     "output_type": "display_data"
    }
   ],
   "source": [
    "cand_city(\"Trump\")"
   ]
  },
  {
   "cell_type": "code",
   "execution_count": 54,
   "metadata": {
    "collapsed": false
   },
   "outputs": [
    {
     "data": {
      "image/png": "[encoded data removed]",
      "text/plain": [
       "<matplotlib.figure.Figure at 0x2726d0f0>"
      ]
     },
     "metadata": {},
     "output_type": "display_data"
    }
   ],
   "source": [
    "cand_city(\"Clinton\")"
   ]
  },
  {
   "cell_type": "code",
   "execution_count": 55,
   "metadata": {
    "collapsed": true
   },
   "outputs": [],
   "source": [
    "trim = pdf[pdf.amount < 15000]\n",
    "bins = np.array([0, 10, 100, 250, 1000, 15000]) #cutoffs for contribution bins\n",
    "labels = pd.cut(trim.amount, bins)"
   ]
  },
  {
   "cell_type": "code",
   "execution_count": 61,
   "metadata": {
    "collapsed": false
   },
   "outputs": [
    {
     "data": {
      "text/plain": [
       "<matplotlib.axes._subplots.AxesSubplot at 0x325d7358>"
      ]
     },
     "execution_count": 61,
     "metadata": {},
     "output_type": "execute_result"
    },
    {
     "data": {
      "image/png": "[encoded data removed]",
      "text/plain": [
       "<matplotlib.figure.Figure at 0x399d1eb8>"
      ]
     },
     "metadata": {},
     "output_type": "display_data"
    }
   ],
   "source": [
    "#Total amount of candidate donations grouped into buckets of various donation sizes\n",
    "group = trim.groupby([\"candidate\", labels])\n",
    "bucket_sums = group.amount.sum().unstack(0) #place into 2 column format\n",
    "normed_sums = bucket_sums.div(bucket_sums.sum(axis = 1), axis = 0)\n",
    "normed_sums.plot(kind=\"barh\")"
   ]
  },
  {
   "cell_type": "code",
   "execution_count": 83,
   "metadata": {
    "collapsed": false
   },
   "outputs": [
    {
     "data": {
      "text/plain": [
       "<matplotlib.axes._subplots.AxesSubplot at 0x14400f668>"
      ]
     },
     "execution_count": 83,
     "metadata": {},
     "output_type": "execute_result"
    },
    {
     "data": {
      "image/png": "[encoded data removed]",
      "text/plain": [
       "<matplotlib.figure.Figure at 0x1bcc06d30>"
      ]
     },
     "metadata": {},
     "output_type": "display_data"
    }
   ],
   "source": [
    "#Proportion of donations to each candidate by month\n",
    "mgroup = pdf[~(pdf.month == \"Dec\")].groupby([\"candidate\", \"month\"])\n",
    "mgroup = mgroup.amount.sum().unstack(0)\n",
    "monthList = ['Jan', 'Feb', 'Mar', 'Apr', 'May', 'Jun', 'Jul', 'Aug','Sep', 'Oct', 'Nov']\n",
    "mgroup = mgroup.ix[monthList]\n",
    "mTotals = mgroup.sum(axis = 1) #sum across month rows\n",
    "mProps = mgroup.div(mTotals, axis = 0) #proportions by month\n",
    "mProps.plot(kind = \"bar\", figsize=(10, 10))"
   ]
  },
  {
   "cell_type": "code",
   "execution_count": null,
   "metadata": {
    "collapsed": false
   },
   "outputs": [],
   "source": []
  },
  {
   "cell_type": "code",
   "execution_count": null,
   "metadata": {
    "collapsed": true
   },
   "outputs": [],
   "source": []
  }
 ],
 "metadata": {
  "kernelspec": {
   "display_name": "Python 2",
   "language": "python",
   "name": "python2"
  },
  "language_info": {
   "codemirror_mode": {
    "name": "ipython",
    "version": 2
   },
   "file_extension": ".py",
   "mimetype": "text/x-python",
   "name": "python",
   "nbconvert_exporter": "python",
   "pygments_lexer": "ipython2",
   "version": "2.7.12"
  }
 },
 "nbformat": 4,
 "nbformat_minor": 0
}
