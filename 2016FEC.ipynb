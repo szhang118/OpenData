{
 "cells": [
  {
   "cell_type": "code",
   "execution_count": null,
   "metadata": {
    "collapsed": true
   },
   "outputs": [],
   "source": []
  },
  {
   "cell_type": "markdown",
   "metadata": {},
   "source": [
    "Analysis of 2016 United States Presidential election contributions made in 2015.  Data obtained from United States Federal Election Commission webpage."
   ]
  },
  {
   "cell_type": "code",
   "execution_count": 1,
   "metadata": {
    "collapsed": true
   },
   "outputs": [],
   "source": [
    "%matplotlib inline\n",
    "import matplotlib.pyplot as plt\n",
    "import numpy as np\n",
    "import pandas as pd"
   ]
  },
  {
   "cell_type": "code",
   "execution_count": 2,
   "metadata": {
    "collapsed": false
   },
   "outputs": [
    {
     "name": "stderr",
     "output_type": "stream",
     "text": [
      "C:\\Users\\Steve\\Anaconda2\\envs\\dato-env\\lib\\site-packages\\pandas\\io\\parsers.py:1170: DtypeWarning: Columns (6) have mixed types. Specify dtype option on import or set low_memory=False.\n",
      "  data = self._reader.read(nrows)\n"
     ]
    }
   ],
   "source": [
    "df = pd.read_csv('2016Election/2016Elect.csv', index_col=False, parse_dates=True)"
   ]
  },
  {
   "cell_type": "code",
   "execution_count": 3,
   "metadata": {
    "collapsed": false
   },
   "outputs": [],
   "source": [
    "#Columns to keep for analysis\n",
    "colsKeep = ['cand_nm', 'contbr_nm', 'contbr_city', 'contbr_st', 'contbr_zip', 'contbr_employer', 'contbr_occupation',\n",
    "           'contb_receipt_amt', 'contb_receipt_dt']"
   ]
  },
  {
   "cell_type": "code",
   "execution_count": 4,
   "metadata": {
    "collapsed": false
   },
   "outputs": [],
   "source": [
    "df.contb_receipt_dt = pd.to_datetime(df.contb_receipt_dt, format='%d-%b-%y')"
   ]
  },
  {
   "cell_type": "code",
   "execution_count": 5,
   "metadata": {
    "collapsed": false
   },
   "outputs": [],
   "source": [
    "df = df[colsKeep]\n",
    "df['month'] = df.contb_receipt_dt.apply(lambda x: x.month)\n",
    "df['year'] = df.contb_receipt_dt.apply(lambda x: x.year)"
   ]
  },
  {
   "cell_type": "code",
   "execution_count": 6,
   "metadata": {
    "collapsed": false
   },
   "outputs": [],
   "source": [
    "#restrict to contributions in 2015\n",
    "df = df[(df.year == 2015) & (df.contb_receipt_amt>0)]"
   ]
  },
  {
   "cell_type": "code",
   "execution_count": 7,
   "metadata": {
    "collapsed": false
   },
   "outputs": [
    {
     "data": {
      "text/plain": [
       "array(['Rubio, Marco', 'Santorum, Richard J.', 'Perry, James R. (Rick)',\n",
       "       'Carson, Benjamin S.', \"Cruz, Rafael Edward 'Ted'\", 'Paul, Rand',\n",
       "       'Clinton, Hillary Rodham', 'Sanders, Bernard', 'Fiorina, Carly',\n",
       "       'Huckabee, Mike', 'Pataki, George E.', \"O'Malley, Martin Joseph\",\n",
       "       'Graham, Lindsey O.', 'Bush, Jeb', 'Trump, Donald J.',\n",
       "       'Jindal, Bobby', 'Christie, Christopher J.', 'Walker, Scott',\n",
       "       'Stein, Jill', 'Webb, James Henry Jr.', 'Kasich, John R.',\n",
       "       'Lessig, Lawrence'], dtype=object)"
      ]
     },
     "execution_count": 7,
     "metadata": {},
     "output_type": "execute_result"
    }
   ],
   "source": [
    "df.cand_nm.unique()"
   ]
  },
  {
   "cell_type": "code",
   "execution_count": 8,
   "metadata": {
    "collapsed": false
   },
   "outputs": [
    {
     "data": {
      "text/html": [
       "<div>\n",
       "<table border=\"1\" class=\"dataframe\">\n",
       "  <thead>\n",
       "    <tr style=\"text-align: right;\">\n",
       "      <th></th>\n",
       "      <th>cand_nm</th>\n",
       "      <th>contbr_nm</th>\n",
       "      <th>contbr_city</th>\n",
       "      <th>contbr_st</th>\n",
       "      <th>contbr_zip</th>\n",
       "      <th>contbr_employer</th>\n",
       "      <th>contbr_occupation</th>\n",
       "      <th>contb_receipt_amt</th>\n",
       "      <th>contb_receipt_dt</th>\n",
       "      <th>month</th>\n",
       "      <th>year</th>\n",
       "    </tr>\n",
       "  </thead>\n",
       "  <tbody>\n",
       "    <tr>\n",
       "      <th>887279</th>\n",
       "      <td>Lawrence Lessig</td>\n",
       "      <td>CATES, ROBERT</td>\n",
       "      <td>MONROE</td>\n",
       "      <td>WI</td>\n",
       "      <td>535663645</td>\n",
       "      <td>MONROE CLINIC</td>\n",
       "      <td>PHYSICIAN</td>\n",
       "      <td>500</td>\n",
       "      <td>2015-09-05</td>\n",
       "      <td>9</td>\n",
       "      <td>2015</td>\n",
       "    </tr>\n",
       "    <tr>\n",
       "      <th>887280</th>\n",
       "      <td>Lawrence Lessig</td>\n",
       "      <td>GESSNER, JASON</td>\n",
       "      <td>MILWAUKEE</td>\n",
       "      <td>WI</td>\n",
       "      <td>532072270</td>\n",
       "      <td>GOOGLE</td>\n",
       "      <td>SOFTWARE ENGINEER</td>\n",
       "      <td>250</td>\n",
       "      <td>2015-09-04</td>\n",
       "      <td>9</td>\n",
       "      <td>2015</td>\n",
       "    </tr>\n",
       "    <tr>\n",
       "      <th>887281</th>\n",
       "      <td>Lawrence Lessig</td>\n",
       "      <td>KLANN, DAVID</td>\n",
       "      <td>VIROQUA</td>\n",
       "      <td>WI</td>\n",
       "      <td>546650146</td>\n",
       "      <td>SELF-EMPLOYED</td>\n",
       "      <td>SMALL BUSINESS OWNER</td>\n",
       "      <td>250</td>\n",
       "      <td>2015-08-11</td>\n",
       "      <td>8</td>\n",
       "      <td>2015</td>\n",
       "    </tr>\n",
       "    <tr>\n",
       "      <th>887282</th>\n",
       "      <td>Lawrence Lessig</td>\n",
       "      <td>DAVIS, DEVRA</td>\n",
       "      <td>TETON VILLAGE</td>\n",
       "      <td>WY</td>\n",
       "      <td>830250058</td>\n",
       "      <td>ENVIRONMENTAL HEALTH TRUST</td>\n",
       "      <td>SCIENTIST/WRITER</td>\n",
       "      <td>500</td>\n",
       "      <td>2015-08-11</td>\n",
       "      <td>8</td>\n",
       "      <td>2015</td>\n",
       "    </tr>\n",
       "    <tr>\n",
       "      <th>887283</th>\n",
       "      <td>Lawrence Lessig</td>\n",
       "      <td>KVENILD, CASSANDRA</td>\n",
       "      <td>LARAMIE</td>\n",
       "      <td>WY</td>\n",
       "      <td>820725035</td>\n",
       "      <td>UNIVERSITY OF WYOMING</td>\n",
       "      <td>LIBRARIAN</td>\n",
       "      <td>250</td>\n",
       "      <td>2015-08-13</td>\n",
       "      <td>8</td>\n",
       "      <td>2015</td>\n",
       "    </tr>\n",
       "  </tbody>\n",
       "</table>\n",
       "</div>"
      ],
      "text/plain": [
       "                cand_nm           contbr_nm    contbr_city contbr_st  \\\n",
       "887279  Lawrence Lessig       CATES, ROBERT         MONROE        WI   \n",
       "887280  Lawrence Lessig      GESSNER, JASON      MILWAUKEE        WI   \n",
       "887281  Lawrence Lessig        KLANN, DAVID        VIROQUA        WI   \n",
       "887282  Lawrence Lessig        DAVIS, DEVRA  TETON VILLAGE        WY   \n",
       "887283  Lawrence Lessig  KVENILD, CASSANDRA        LARAMIE        WY   \n",
       "\n",
       "       contbr_zip             contbr_employer     contbr_occupation  \\\n",
       "887279  535663645               MONROE CLINIC             PHYSICIAN   \n",
       "887280  532072270                      GOOGLE     SOFTWARE ENGINEER   \n",
       "887281  546650146               SELF-EMPLOYED  SMALL BUSINESS OWNER   \n",
       "887282  830250058  ENVIRONMENTAL HEALTH TRUST      SCIENTIST/WRITER   \n",
       "887283  820725035       UNIVERSITY OF WYOMING             LIBRARIAN   \n",
       "\n",
       "        contb_receipt_amt contb_receipt_dt  month  year  \n",
       "887279                500       2015-09-05      9  2015  \n",
       "887280                250       2015-09-04      9  2015  \n",
       "887281                250       2015-08-11      8  2015  \n",
       "887282                500       2015-08-11      8  2015  \n",
       "887283                250       2015-08-13      8  2015  "
      ]
     },
     "execution_count": 8,
     "metadata": {},
     "output_type": "execute_result"
    }
   ],
   "source": [
    "#Reformat names of candidates\n",
    "name_map = {'Rubio, Marco':'Marco Rubio', 'Santorum, Richard J.':'Rick Santorum', 'Perry, James R. (Rick)':'Rick Perry', \n",
    "           'Carson, Benjamin S.': 'Ben Carson', \"Cruz, Rafael Edward 'Ted'\": 'Ted Cruz', 'Paul, Rand':'Rand Paul',\n",
    "           'Clinton, Hillary Rodham': 'Hillary Clinton', 'Sanders, Bernard': 'Bernie Sanders', 'Fiorina, Carly': 'Carly Fiorina',\n",
    "           'Huckabee, Mike': 'Mike Huckabee', 'Pataki, George E.': 'George Pataki',  \"O'Malley, Martin Joseph\": \"Martin O'Malley\",\n",
    "           'Graham, Lindsey O.': 'Lindsey Graham', 'Bush, Jeb': 'Jeb Bush', 'Trump, Donald J.': 'Donald Trump', 'Jindal, Bobby': 'Bobby Jindal',\n",
    "           'Christie, Christopher J.':'Chris Christie', 'Walker, Scott': 'Scott Walker', 'Stein, Jill': 'Jill Stein', \n",
    "           'Webb, James Henry Jr.':'Jim Webb', 'Kasich, John R.':'John Kasich', 'Lessig, Lawrence':'Lawrence Lessig'}\n",
    "df.cand_nm = df.cand_nm.map(name_map)\n",
    "df.tail()"
   ]
  },
  {
   "cell_type": "code",
   "execution_count": 9,
   "metadata": {
    "collapsed": false
   },
   "outputs": [],
   "source": [
    "#Assign political parties to candidates.\n",
    "parties={'Marco Rubio':'Republican', 'Rick Santorum':'Republican', 'Rick Perry':'Republican', \n",
    "           'Ben Carson': 'Republican', \"Ted Cruz\": 'Republican', 'Rand Paul':'Republican',\n",
    "           'Hillary Clinton': 'Democratic', 'Bernie Sanders': 'Democratic', 'Carly Fiorina': 'Republican',\n",
    "           'Mike Huckabee': 'Republican', 'George Pataki': 'Republican',  \"Martin O'Malley\": \"Democratic\",\n",
    "           'Lindsey Graham': 'Republican', 'Jeb Bush': 'Republican', 'Donald Trump': 'Republican', 'Bobby Jindal': 'Republican',\n",
    "           'Chris Christie':'Republican', 'Scott Walker': 'Republican', 'Jill Stein': 'Democratic', \n",
    "           'Jim Webb':'Democratic', 'John Kasich':'Republican', 'Lawrence Lessig':'Democratic'}\n",
    "df['party'] = df.cand_nm.map(parties)"
   ]
  },
  {
   "cell_type": "code",
   "execution_count": 10,
   "metadata": {
    "collapsed": false,
    "scrolled": true
   },
   "outputs": [
    {
     "data": {
      "text/plain": [
       "Republican    472502\n",
       "Democratic    402079\n",
       "dtype: int64"
      ]
     },
     "execution_count": 10,
     "metadata": {},
     "output_type": "execute_result"
    }
   ],
   "source": [
    "df.party.value_counts()"
   ]
  },
  {
   "cell_type": "code",
   "execution_count": 11,
   "metadata": {
    "collapsed": false
   },
   "outputs": [
    {
     "data": {
      "text/plain": [
       "RETIRED                                   223908\n",
       "NOT EMPLOYED                               76683\n",
       "NOT PROVIDED                               37770\n",
       "ATTORNEY                                   23923\n",
       "HOMEMAKER                                  20465\n",
       "PHYSICIAN                                  16004\n",
       "ENGINEER                                   10523\n",
       "CONSULTANT                                 10313\n",
       "TEACHER                                     9648\n",
       "SALES                                       7489\n",
       "SELF EMPLOYED                               6985\n",
       "PROFESSOR                                   6884\n",
       "CEO                                         6528\n",
       "PRESIDENT                                   6512\n",
       "LAWYER                                      5930\n",
       "OWNER                                       5654\n",
       "MANAGER                                     5537\n",
       "SOFTWARE ENGINEER                           4883\n",
       "EXECUTIVE                                   4702\n",
       "BUSINESS OWNER                              4086\n",
       "STUDENT                                     3687\n",
       "REAL ESTATE                                 3552\n",
       "ACCOUNTANT                                  3373\n",
       "WRITER                                      3196\n",
       "REGISTERED NURSE                            2907\n",
       "FARMER                                      2871\n",
       "REALTOR                                     2706\n",
       "ARTIST                                      2382\n",
       "CPA                                         2268\n",
       "RN                                          2179\n",
       "                                           ...  \n",
       "SALES PLANER                                   1\n",
       "DIRECTOR OF CI                                 1\n",
       "CONSUTLING ENGINEER                            1\n",
       "PROJECT OFFICER                                1\n",
       "CII                                            1\n",
       "PRODUCTION PLANNING                            1\n",
       "PRIVATE INVESTORS                              1\n",
       "INTELLIGENCE ANALYST/OFFICER                   1\n",
       "DOD CONSULTING                                 1\n",
       "RETIRED, CHIEF OF STATION                      1\n",
       "LOGISTICS CONSULTANT                           1\n",
       "P&S DIRECTOR                                   1\n",
       "AUTO CLAIMS ADJUSTER                           1\n",
       "INFRASTRUCTURE DEVELOPMENT                     1\n",
       "VICE PRESIDENT, ENTERPRISE RISK MANAGE         1\n",
       "WEB PORTFOLIO MANAGING PARTNER                 1\n",
       "SENIOR VP AEROSPACE DIVISION                   1\n",
       "OWNER/CERAMIST                                 1\n",
       "D AC                                           1\n",
       "EXECUTIVE PRESIDENT & COO                      1\n",
       "FREELANCE WRITER PUBLISHED AUTHOR              1\n",
       "VETERANS BENIFITS ADMIN                        1\n",
       "CANNABIS STRAIN DESIGNER                       1\n",
       "OUTSIDE PLANT ENGINEER                         1\n",
       "PROGRAMMER/ANIMATOR                            1\n",
       "ENERGY/ECONOMIC CONSULTING                     1\n",
       "GLOBAL WOMEN'S AND CHILDREN'S HEALTH           1\n",
       "TECHNICAL DIVISION DIRECTOR                    1\n",
       "MARINE PILOT                                   1\n",
       "INVESTMENT PARTNER                             1\n",
       "dtype: int64"
      ]
     },
     "execution_count": 11,
     "metadata": {},
     "output_type": "execute_result"
    }
   ],
   "source": [
    "#Clean up occupation column data\n",
    "occ_mapping = {\n",
    "'INFORMATION REQUESTED PER BEST EFFORTS' : 'NOT PROVIDED',\n",
    "'INFORMATION REQUESTED' : 'NOT PROVIDED',\n",
    "'INFORMATION REQUESTED (BEST EFFORTS)' : 'NOT PROVIDED',\n",
    "'C.E.O.': 'CEO',\n",
    "'SELF-EMPLOYED': 'SELF EMPLOYED',\n",
    "'NONE': 'NOT EMPLOYED'    \n",
    "}\n",
    "f = lambda x: occ_mapping.get(x, x)\n",
    "df.contbr_occupation = df.contbr_occupation.map(f)\n",
    "df.contbr_occupation.value_counts()"
   ]
  },
  {
   "cell_type": "code",
   "execution_count": 12,
   "metadata": {
    "collapsed": false
   },
   "outputs": [
    {
     "data": {
      "text/plain": [
       "RETIRED                200511\n",
       "SELF-EMPLOYED          105720\n",
       "NOT EMPLOYED            92818\n",
       "NOT PROVIDED            40554\n",
       "HOMEMAKER               14511\n",
       "HILLARY FOR AMERICA      1289\n",
       "USPS                      728\n",
       "STUDENT                   705\n",
       "GOOGLE                    601\n",
       "IBM                       578\n",
       "dtype: int64"
      ]
     },
     "execution_count": 12,
     "metadata": {},
     "output_type": "execute_result"
    }
   ],
   "source": [
    "emp_mapping = {\n",
    "'INFORMATION REQUESTED PER BEST EFFORTS' : 'NOT PROVIDED',\n",
    "'INFORMATION REQUESTED' : 'NOT PROVIDED',\n",
    "'SELF' : 'SELF-EMPLOYED',\n",
    "'SELF EMPLOYED' : 'SELF-EMPLOYED',\n",
    "'NONE': 'NOT EMPLOYED',\n",
    "'UNEMPLOYED': 'NOT EMPLOYED',\n",
    "'MR.': 'NOT EMPLOYED',\n",
    "'MS.': 'NOT EMPLOYED',\n",
    "'REFUSED': 'NOT PROVIDED'\n",
    "}\n",
    "f = lambda x: emp_mapping.get(x, x)\n",
    "df.contbr_employer = df.contbr_employer.map(f)\n",
    "df.contbr_employer.value_counts().head(10)"
   ]
  },
  {
   "cell_type": "code",
   "execution_count": 13,
   "metadata": {
    "collapsed": true
   },
   "outputs": [],
   "source": [
    "generic = ['RETIRED', 'SELF-EMPLOYED', 'NOT EMPLOYED', 'NOT PROVIDED', 'HOMEMAKER', 'STUDENT']"
   ]
  },
  {
   "cell_type": "code",
   "execution_count": 14,
   "metadata": {
    "collapsed": false
   },
   "outputs": [
    {
     "data": {
      "text/html": [
       "<div>\n",
       "<table border=\"1\" class=\"dataframe\">\n",
       "  <thead>\n",
       "    <tr style=\"text-align: right;\">\n",
       "      <th></th>\n",
       "      <th>cand_nm</th>\n",
       "      <th>contbr_nm</th>\n",
       "      <th>contbr_city</th>\n",
       "      <th>contbr_st</th>\n",
       "      <th>contbr_zip</th>\n",
       "      <th>contbr_employer</th>\n",
       "      <th>contbr_occupation</th>\n",
       "      <th>contb_receipt_amt</th>\n",
       "      <th>contb_receipt_dt</th>\n",
       "      <th>month</th>\n",
       "      <th>year</th>\n",
       "      <th>party</th>\n",
       "    </tr>\n",
       "  </thead>\n",
       "  <tbody>\n",
       "    <tr>\n",
       "      <th>0</th>\n",
       "      <td>Marco Rubio</td>\n",
       "      <td>HEFFERNAN, MICHAEL</td>\n",
       "      <td>APO</td>\n",
       "      <td>AE</td>\n",
       "      <td>9096</td>\n",
       "      <td>RETIRED</td>\n",
       "      <td>RETIRED</td>\n",
       "      <td>225</td>\n",
       "      <td>2015-10-29</td>\n",
       "      <td>Oct</td>\n",
       "      <td>2015</td>\n",
       "      <td>Republican</td>\n",
       "    </tr>\n",
       "    <tr>\n",
       "      <th>1</th>\n",
       "      <td>Marco Rubio</td>\n",
       "      <td>HEFFERNAN, MICHAEL</td>\n",
       "      <td>APO</td>\n",
       "      <td>AE</td>\n",
       "      <td>90960009</td>\n",
       "      <td>NOT PROVIDED</td>\n",
       "      <td>NOT PROVIDED</td>\n",
       "      <td>210</td>\n",
       "      <td>2015-06-27</td>\n",
       "      <td>Jun</td>\n",
       "      <td>2015</td>\n",
       "      <td>Republican</td>\n",
       "    </tr>\n",
       "    <tr>\n",
       "      <th>2</th>\n",
       "      <td>Marco Rubio</td>\n",
       "      <td>DOHERTY, THERESA</td>\n",
       "      <td>APO</td>\n",
       "      <td>AE</td>\n",
       "      <td>97520002</td>\n",
       "      <td>DODEA/DS</td>\n",
       "      <td>TEACHER</td>\n",
       "      <td>500</td>\n",
       "      <td>2015-06-26</td>\n",
       "      <td>Jun</td>\n",
       "      <td>2015</td>\n",
       "      <td>Republican</td>\n",
       "    </tr>\n",
       "    <tr>\n",
       "      <th>3</th>\n",
       "      <td>Marco Rubio</td>\n",
       "      <td>KIBBLE, KUMAR</td>\n",
       "      <td>DPO</td>\n",
       "      <td>AE</td>\n",
       "      <td>92131903</td>\n",
       "      <td>U.S. DEPARTMENT OF HOMELAND SECURITY</td>\n",
       "      <td>LAW ENFORCEMENT</td>\n",
       "      <td>500</td>\n",
       "      <td>2015-08-27</td>\n",
       "      <td>Aug</td>\n",
       "      <td>2015</td>\n",
       "      <td>Republican</td>\n",
       "    </tr>\n",
       "    <tr>\n",
       "      <th>4</th>\n",
       "      <td>Marco Rubio</td>\n",
       "      <td>VERHAGEN, JOSH</td>\n",
       "      <td>NENANA</td>\n",
       "      <td>AK</td>\n",
       "      <td>997600113</td>\n",
       "      <td>U.B.I</td>\n",
       "      <td>CARPENTER</td>\n",
       "      <td>25</td>\n",
       "      <td>2015-11-18</td>\n",
       "      <td>Nov</td>\n",
       "      <td>2015</td>\n",
       "      <td>Republican</td>\n",
       "    </tr>\n",
       "  </tbody>\n",
       "</table>\n",
       "</div>"
      ],
      "text/plain": [
       "       cand_nm           contbr_nm contbr_city contbr_st contbr_zip  \\\n",
       "0  Marco Rubio  HEFFERNAN, MICHAEL         APO        AE       9096   \n",
       "1  Marco Rubio  HEFFERNAN, MICHAEL         APO        AE   90960009   \n",
       "2  Marco Rubio    DOHERTY, THERESA         APO        AE   97520002   \n",
       "3  Marco Rubio       KIBBLE, KUMAR         DPO        AE   92131903   \n",
       "4  Marco Rubio      VERHAGEN, JOSH      NENANA        AK  997600113   \n",
       "\n",
       "                        contbr_employer contbr_occupation  contb_receipt_amt  \\\n",
       "0                               RETIRED           RETIRED                225   \n",
       "1                          NOT PROVIDED      NOT PROVIDED                210   \n",
       "2                              DODEA/DS           TEACHER                500   \n",
       "3  U.S. DEPARTMENT OF HOMELAND SECURITY   LAW ENFORCEMENT                500   \n",
       "4                                 U.B.I         CARPENTER                 25   \n",
       "\n",
       "  contb_receipt_dt month  year       party  \n",
       "0       2015-10-29   Oct  2015  Republican  \n",
       "1       2015-06-27   Jun  2015  Republican  \n",
       "2       2015-06-26   Jun  2015  Republican  \n",
       "3       2015-08-27   Aug  2015  Republican  \n",
       "4       2015-11-18   Nov  2015  Republican  "
      ]
     },
     "execution_count": 14,
     "metadata": {},
     "output_type": "execute_result"
    }
   ],
   "source": [
    "month_map = {1:'Jan', 2:'Feb', 3:'Mar', 4:'Apr', 5:'May', 6:'Jun', 7:'Jul', 8:'Aug', 9:'Sep', 10:'Oct', 11:'Nov', 12:'Dec'}\n",
    "df.month = df.month.map(month_map)\n",
    "df.head()"
   ]
  },
  {
   "cell_type": "code",
   "execution_count": 15,
   "metadata": {
    "collapsed": true
   },
   "outputs": [],
   "source": [
    "def cand_ts(candidate, prop=False):\n",
    "    #Construct time series plot for individual candidate\n",
    "    cand = df[df.cand_nm == candidate]\n",
    "    group = cand.groupby('month').agg(sum)['contb_receipt_amt']\n",
    "    monthList = ['Jan', 'Feb', 'Mar', 'Apr', 'May', 'Jun', 'Jul', 'Aug','Sep', 'Oct', 'Nov', 'Dec']\n",
    "    if prop:\n",
    "        group = group.div(group.max())\n",
    "    group.ix[monthList].plot(kind='bar')\n",
    "    plt.xlabel('Month')\n",
    "    plt.ylabel('$')"
   ]
  },
  {
   "cell_type": "code",
   "execution_count": 16,
   "metadata": {
    "collapsed": false
   },
   "outputs": [
    {
     "data": {
      "image/png": "[encoded data removed]",
      "text/plain": [
       "<matplotlib.figure.Figure at 0x1f43af98>"
      ]
     },
     "metadata": {},
     "output_type": "display_data"
    }
   ],
   "source": [
    "cand_ts('Hillary Clinton', True)"
   ]
  },
  {
   "cell_type": "code",
   "execution_count": 17,
   "metadata": {
    "collapsed": true
   },
   "outputs": [],
   "source": [
    "def cand_empl(candidate):\n",
    "    #Top 10 contributing companies to a particular candidate\n",
    "    cand = df[df.cand_nm == candidate]\n",
    "    cand = cand[~ cand.contbr_employer.isin(generic)]\n",
    "    group = cand.groupby('contbr_employer').agg(sum)['contb_receipt_amt']\n",
    "    group.order(ascending=False).head(10).plot(kind='bar')"
   ]
  },
  {
   "cell_type": "code",
   "execution_count": 18,
   "metadata": {
    "collapsed": false
   },
   "outputs": [
    {
     "data": {
      "image/png": "[encoded data removed]",
      "text/plain": [
       "<matplotlib.figure.Figure at 0x9f32b70>"
      ]
     },
     "metadata": {},
     "output_type": "display_data"
    }
   ],
   "source": [
    "cand_empl('Ben Carson')"
   ]
  },
  {
   "cell_type": "code",
   "execution_count": 19,
   "metadata": {
    "collapsed": false
   },
   "outputs": [
    {
     "data": {
      "text/plain": [
       "cand_nm\n",
       "Hillary Clinton    95041591.390000\n",
       "Ted Cruz           34124229.580000\n",
       "Jeb Bush           31447355.250000\n",
       "Marco Rubio        27078535.400000\n",
       "Ben Carson         23408282.720000\n",
       "Bernie Sanders     19387995.099999\n",
       "Chris Christie      6940518.130000\n",
       "John Kasich         6619153.770000\n",
       "Carly Fiorina       6348970.180000\n",
       "Scott Walker        5696339.960000\n",
       "Rand Paul           5125928.400000\n",
       "Lindsey Graham      4114956.420000\n",
       "Martin O'Malley     3746967.380000\n",
       "Mike Huckabee       2362735.150000\n",
       "Donald Trump        1695343.290000\n",
       "Bobby Jindal        1275393.160000\n",
       "Rick Perry          1189868.230000\n",
       "Rick Santorum       1016606.030000\n",
       "Lawrence Lessig      624219.500000\n",
       "George Pataki        480990.980000\n",
       "Jim Webb             347006.410000\n",
       "Jill Stein            80942.000000\n",
       "Name: contb_receipt_amt, dtype: float64"
      ]
     },
     "execution_count": 19,
     "metadata": {},
     "output_type": "execute_result"
    }
   ],
   "source": [
    "total_cont = df.groupby('cand_nm').agg(sum)['contb_receipt_amt']\n",
    "order_by_cont = total_cont.order(ascending=False)\n",
    "top_cont_idx = order_by_cont.index\n",
    "order_by_cont"
   ]
  },
  {
   "cell_type": "code",
   "execution_count": 20,
   "metadata": {
    "collapsed": false
   },
   "outputs": [],
   "source": [
    "#count number of unique contributors by candidate\n",
    "num_cont = df.groupby('cand_nm')['contbr_nm'].agg(lambda x: np.size(np.unique(x.values)))\n",
    "order_num_cont = num_cont.order(ascending=False)                                     "
   ]
  },
  {
   "cell_type": "code",
   "execution_count": 21,
   "metadata": {
    "collapsed": false
   },
   "outputs": [
    {
     "data": {
      "text/plain": [
       "cand_nm\n",
       "Hillary Clinton    66845\n",
       "Bernie Sanders     59488\n",
       "Ben Carson         47658\n",
       "Ted Cruz           46839\n",
       "Marco Rubio        21630\n",
       "Jeb Bush           16291\n",
       "Rand Paul           9071\n",
       "Carly Fiorina       8736\n",
       "Scott Walker        4628\n",
       "John Kasich         4319\n",
       "Chris Christie      3640\n",
       "Donald Trump        3166\n",
       "Martin O'Malley     2846\n",
       "Mike Huckabee       2440\n",
       "Lindsey Graham      2102\n",
       "Rick Santorum        801\n",
       "Rick Perry           746\n",
       "Lawrence Lessig      725\n",
       "Bobby Jindal         666\n",
       "Jim Webb             481\n",
       "George Pataki        307\n",
       "Jill Stein           225\n",
       "Name: contbr_nm, dtype: int64"
      ]
     },
     "execution_count": 21,
     "metadata": {},
     "output_type": "execute_result"
    }
   ],
   "source": [
    "order_num_cont"
   ]
  },
  {
   "cell_type": "code",
   "execution_count": 22,
   "metadata": {
    "collapsed": false
   },
   "outputs": [
    {
     "data": {
      "text/plain": [
       "cand_nm\n",
       "Lindsey Graham     1957.638639\n",
       "Jeb Bush           1930.351436\n",
       "Bobby Jindal       1915.004745\n",
       "Chris Christie     1906.735750\n",
       "Rick Perry         1594.997627\n",
       "George Pataki      1566.745863\n",
       "John Kasich        1532.566282\n",
       "Hillary Clinton    1421.820501\n",
       "Martin O'Malley    1316.573219\n",
       "Rick Santorum      1269.171074\n",
       "Marco Rubio        1251.897152\n",
       "Scott Walker       1230.842688\n",
       "Mike Huckabee       968.334078\n",
       "Lawrence Lessig     860.992414\n",
       "Ted Cruz            728.543085\n",
       "Carly Fiorina       726.759407\n",
       "Jim Webb            721.427048\n",
       "Rand Paul           565.089670\n",
       "Donald Trump        535.484299\n",
       "Ben Carson          491.172158\n",
       "Jill Stein          359.742222\n",
       "Bernie Sanders      325.914388\n",
       "dtype: float64"
      ]
     },
     "execution_count": 22,
     "metadata": {},
     "output_type": "execute_result"
    }
   ],
   "source": [
    "by_cont_num = order_num_cont[top_cont_idx]\n",
    "cand_by_avg_cont = order_by_cont/by_cont_num\n",
    "cand_by_avg_cont.order(ascending=False)"
   ]
  },
  {
   "cell_type": "code",
   "execution_count": 23,
   "metadata": {
    "collapsed": false
   },
   "outputs": [
    {
     "data": {
      "text/plain": [
       "cand_nm\n",
       "Bobby Jindal       2700.00\n",
       "Chris Christie     1350.00\n",
       "John Kasich        1000.00\n",
       "George Pataki      1000.00\n",
       "Rick Perry         1000.00\n",
       "Jeb Bush           1000.00\n",
       "Martin O'Malley     500.00\n",
       "Scott Walker        500.00\n",
       "Lindsey Graham      500.00\n",
       "Jim Webb            250.00\n",
       "Rick Santorum       250.00\n",
       "Lawrence Lessig     250.00\n",
       "Donald Trump        244.08\n",
       "Jill Stein          150.00\n",
       "Carly Fiorina       100.00\n",
       "Marco Rubio         100.00\n",
       "Mike Huckabee       100.00\n",
       "Hillary Clinton     100.00\n",
       "Ted Cruz             50.00\n",
       "Rand Paul            50.00\n",
       "Ben Carson           50.00\n",
       "Bernie Sanders       35.00\n",
       "Name: contb_receipt_amt, dtype: float64"
      ]
     },
     "execution_count": 23,
     "metadata": {},
     "output_type": "execute_result"
    }
   ],
   "source": [
    "#Median contribution amount by candidate\n",
    "by_median = df.groupby('cand_nm')['contb_receipt_amt'].agg(np.median)\n",
    "by_median.order(ascending=False)"
   ]
  },
  {
   "cell_type": "code",
   "execution_count": 24,
   "metadata": {
    "collapsed": false
   },
   "outputs": [
    {
     "data": {
      "text/plain": [
       "1797624.94"
      ]
     },
     "execution_count": 24,
     "metadata": {},
     "output_type": "execute_result"
    }
   ],
   "source": [
    "df.contb_receipt_amt.max()"
   ]
  },
  {
   "cell_type": "code",
   "execution_count": 25,
   "metadata": {
    "collapsed": true
   },
   "outputs": [],
   "source": [
    "def cand_city(candidate):\n",
    "    #Top 10 contributions to a candidate ordered by city of residence of donor\n",
    "    cand = df[df.cand_nm == candidate]\n",
    "    city = cand.groupby('contbr_city')['contb_receipt_amt'].agg(sum)\n",
    "    city.order(ascending=False).head(10).plot(kind='bar')"
   ]
  },
  {
   "cell_type": "code",
   "execution_count": 26,
   "metadata": {
    "collapsed": false
   },
   "outputs": [
    {
     "data": {
      "image/png": "[encoded data removed]",
      "text/plain": [
       "<matplotlib.figure.Figure at 0x11e48400>"
      ]
     },
     "metadata": {},
     "output_type": "display_data"
    }
   ],
   "source": [
    "cand_city('Ben Carson')"
   ]
  },
  {
   "cell_type": "code",
   "execution_count": 27,
   "metadata": {
    "collapsed": false
   },
   "outputs": [
    {
     "data": {
      "text/plain": [
       "196"
      ]
     },
     "execution_count": 27,
     "metadata": {},
     "output_type": "execute_result"
    }
   ],
   "source": [
    "bernie = df[df.cand_nm == 'Bernie Sanders']\n",
    "bernie_city = bernie.groupby('contbr_city')['contb_receipt_amt'].agg(sum)\n",
    "sort_bernie = bernie_city.order(ascending=False)\n",
    "div_bernie = sort_bernie.div(sort_bernie.sum())\n",
    "#div_bernie.cumsum().head(25)\n",
    "div_bernie.cumsum().searchsorted(0.5)[0]"
   ]
  },
  {
   "cell_type": "code",
   "execution_count": 28,
   "metadata": {
    "collapsed": true
   },
   "outputs": [],
   "source": [
    "def cand_breadth(candidate):\n",
    "    #Number of cities of donor residences it takes to reach 0.50 of candidates' total donor contributions\n",
    "    cand = df[df.cand_nm == candidate]\n",
    "    group = cand.groupby('contbr_city')['contb_receipt_amt'].agg(sum)\n",
    "    sort = group.order(ascending=False)\n",
    "    div_cand = sort.div(sort.sum())\n",
    "    print div_cand.cumsum().head(20)\n",
    "    print ''\n",
    "    print 'It take %d cities to reach 0.50 of the candidate support for %s.' %(div_cand.cumsum().searchsorted(0.5)[0], candidate)"
   ]
  },
  {
   "cell_type": "code",
   "execution_count": null,
   "metadata": {
    "collapsed": false
   },
   "outputs": [],
   "source": []
  },
  {
   "cell_type": "code",
   "execution_count": 29,
   "metadata": {
    "collapsed": false
   },
   "outputs": [],
   "source": [
    "def cand_50(candidate, factor, prop):\n",
    "    cand = df[df.cand_nm == candidate]\n",
    "    group = cand.groupby(factor)['contb_receipt_amt'].agg(sum)\n",
    "    sort = group.order(ascending=False)\n",
    "    div_cand = sort.div(sort.sum())\n",
    "    return div_cand.cumsum().searchsorted(prop)[0]"
   ]
  },
  {
   "cell_type": "code",
   "execution_count": null,
   "metadata": {
    "collapsed": true
   },
   "outputs": [],
   "source": []
  },
  {
   "cell_type": "code",
   "execution_count": 30,
   "metadata": {
    "collapsed": false
   },
   "outputs": [
    {
     "name": "stdout",
     "output_type": "stream",
     "text": [
      "It takes 361 cities to reach 0.50 support for Ben Carson.\n",
      "It takes 196 cities to reach 0.50 support for Bernie Sanders.\n",
      "It takes 181 cities to reach 0.50 support for Rand Paul.\n",
      "It takes 150 cities to reach 0.50 support for Carly Fiorina.\n",
      "It takes 139 cities to reach 0.50 support for Donald Trump.\n",
      "It takes 93 cities to reach 0.50 support for Ted Cruz.\n",
      "It takes 90 cities to reach 0.50 support for Marco Rubio.\n",
      "It takes 76 cities to reach 0.50 support for Chris Christie.\n",
      "It takes 76 cities to reach 0.50 support for Scott Walker.\n",
      "It takes 63 cities to reach 0.50 support for Mike Huckabee.\n",
      "It takes 57 cities to reach 0.50 support for Jeb Bush.\n",
      "It takes 47 cities to reach 0.50 support for Hillary Clinton.\n",
      "It takes 43 cities to reach 0.50 support for John Kasich.\n",
      "It takes 38 cities to reach 0.50 support for Jim Webb.\n",
      "It takes 30 cities to reach 0.50 support for Rick Santorum.\n",
      "It takes 27 cities to reach 0.50 support for Martin O'Malley.\n",
      "It takes 22 cities to reach 0.50 support for Jill Stein.\n",
      "It takes 20 cities to reach 0.50 support for Lindsey Graham.\n",
      "It takes 19 cities to reach 0.50 support for George Pataki.\n",
      "It takes 18 cities to reach 0.50 support for Lawrence Lessig.\n",
      "It takes 12 cities to reach 0.50 support for Rick Perry.\n",
      "It takes 11 cities to reach 0.50 support for Bobby Jindal.\n"
     ]
    }
   ],
   "source": [
    "cand_num = []\n",
    "prop = 0.50\n",
    "for candidate in df.cand_nm.unique():\n",
    "    cand_num.append((candidate, cand_50(candidate, 'contbr_city', prop)))\n",
    "sorted_cand = sorted(cand_num, key=lambda cand: cand[1], reverse=True)\n",
    "for c in sorted_cand:\n",
    "    print \"It takes %d cities to reach %0.2f support for %s.\" %(c[1], prop, c[0])"
   ]
  },
  {
   "cell_type": "code",
   "execution_count": 31,
   "metadata": {
    "collapsed": false
   },
   "outputs": [
    {
     "data": {
      "text/plain": [
       "party\n",
       "Democratic    1.192287e+08\n",
       "Republican    1.589252e+08\n",
       "Name: contb_receipt_amt, dtype: float64"
      ]
     },
     "execution_count": 31,
     "metadata": {},
     "output_type": "execute_result"
    }
   ],
   "source": [
    "df.groupby('party')['contb_receipt_amt'].agg(sum)"
   ]
  },
  {
   "cell_type": "code",
   "execution_count": 32,
   "metadata": {
    "collapsed": true
   },
   "outputs": [],
   "source": [
    "bins = np.array([0, 10, 100, 250, 1000, 15000])"
   ]
  },
  {
   "cell_type": "code",
   "execution_count": 33,
   "metadata": {
    "collapsed": false
   },
   "outputs": [],
   "source": [
    "trim = df[df.contb_receipt_amt<15000]\n",
    "labels = pd.cut(trim.contb_receipt_amt, bins)"
   ]
  },
  {
   "cell_type": "code",
   "execution_count": 34,
   "metadata": {
    "collapsed": true
   },
   "outputs": [],
   "source": [
    "def cand_compare(cand1, cand2):\n",
    "    cands = trim[trim.cand_nm.isin([cand1, cand2])] #restrict to 2 candidates\n",
    "    labels = pd.cut(cands.contb_receipt_amt, bins) #create labels for contribution amounts\n",
    "    group = cands.groupby(['cand_nm', labels])\n",
    "    bucket_sums = group.contb_receipt_amt.sum().unstack(0)\n",
    "    normed_sums = bucket_sums.div(bucket_sums.sum(axis=1), axis=0)\n",
    "    normed_sums.plot(kind='barh', stacked=True)"
   ]
  },
  {
   "cell_type": "code",
   "execution_count": 35,
   "metadata": {
    "collapsed": false
   },
   "outputs": [
    {
     "data": {
      "image/png": "[encoded data removed]",
      "text/plain": [
       "<matplotlib.figure.Figure at 0x10494630>"
      ]
     },
     "metadata": {},
     "output_type": "display_data"
    }
   ],
   "source": [
    "cand_compare('Hillary Clinton', 'Bernie Sanders')"
   ]
  },
  {
   "cell_type": "code",
   "execution_count": 36,
   "metadata": {
    "collapsed": false
   },
   "outputs": [],
   "source": [
    "def cand_by_amt(candidate):\n",
    "    cand = trim[trim.cand_nm == candidate]\n",
    "    labels = pd.cut(cand.contb_receipt_amt, bins)\n",
    "    group = cand.groupby(labels)['contb_receipt_amt'].agg(sum)\n",
    "    group.div(group.sum(axis=0)).plot(kind='bar')"
   ]
  },
  {
   "cell_type": "code",
   "execution_count": 37,
   "metadata": {
    "collapsed": false
   },
   "outputs": [
    {
     "data": {
      "image/png": "[encoded data removed]",
      "text/plain": [
       "<matplotlib.figure.Figure at 0x18b3de10>"
      ]
     },
     "metadata": {},
     "output_type": "display_data"
    }
   ],
   "source": [
    "cand_by_amt(\"John Kasich\")"
   ]
  },
  {
   "cell_type": "code",
   "execution_count": 38,
   "metadata": {
    "collapsed": false
   },
   "outputs": [],
   "source": [
    "def clean_zip(zipcode):\n",
    "    try:\n",
    "        string_zip = str(zipcode)\n",
    "        return int(string_zip[:5])\n",
    "    except:\n",
    "        return zipcode"
   ]
  },
  {
   "cell_type": "code",
   "execution_count": 39,
   "metadata": {
    "collapsed": false
   },
   "outputs": [],
   "source": [
    "df.contbr_zip = df.contbr_zip.apply(lambda x: clean_zip(x))"
   ]
  },
  {
   "cell_type": "code",
   "execution_count": 40,
   "metadata": {
    "collapsed": false
   },
   "outputs": [],
   "source": [
    "def prop_zip(zipcode):\n",
    "    #Break down proportion of zipcode's political contributions by candidate\n",
    "    dfzip = df[df.contbr_zip == zipcode]\n",
    "    group = dfzip.groupby('cand_nm')['contb_receipt_amt'].agg(sum)\n",
    "    ordered = group.order(ascending=False).head(10)\n",
    "    ordered.div(ordered.sum()).plot(kind='bar')"
   ]
  },
  {
   "cell_type": "code",
   "execution_count": 41,
   "metadata": {
    "collapsed": false
   },
   "outputs": [
    {
     "data": {
      "image/png": "[encoded data removed]",
      "text/plain": [
       "<matplotlib.figure.Figure at 0x1f776b70>"
      ]
     },
     "metadata": {},
     "output_type": "display_data"
    }
   ],
   "source": [
    "prop_zip(90210)"
   ]
  },
  {
   "cell_type": "code",
   "execution_count": 42,
   "metadata": {
    "collapsed": false
   },
   "outputs": [],
   "source": [
    "def prop_state(state):\n",
    "    #Share of a state's contributions by candidate\n",
    "    dfstate = df[df.contbr_st == state]\n",
    "    group = dfstate.groupby('cand_nm')['contb_receipt_amt'].agg(sum)\n",
    "    ordered = group.order(ascending=False).head(10)\n",
    "    ordered.div(ordered.sum()).plot(kind='bar')"
   ]
  },
  {
   "cell_type": "code",
   "execution_count": 43,
   "metadata": {
    "collapsed": false
   },
   "outputs": [
    {
     "data": {
      "image/png": "[encoded data removed]",
      "text/plain": [
       "<matplotlib.figure.Figure at 0x18387898>"
      ]
     },
     "metadata": {},
     "output_type": "display_data"
    }
   ],
   "source": [
    "prop_state('FL')"
   ]
  },
  {
   "cell_type": "code",
   "execution_count": 44,
   "metadata": {
    "collapsed": false
   },
   "outputs": [
    {
     "data": {
      "text/plain": [
       "contbr_employer\n",
       "GOLDMAN SACHS                            518245.58\n",
       "CIVIC VOLUNTEER                          365811.00\n",
       "MORGAN STANLEY                           326242.48\n",
       "MORGAN & MORGAN                          252608.10\n",
       "GOOGLE                                   242019.84\n",
       "DLA PIPER LLP                            213950.00\n",
       "STANFORD UNIVERSITY                      178822.64\n",
       "PAUL WEISS RIFKIND WHARTON & GARRISON    161400.00\n",
       "SULLIVAN & CROMWELL LLP                  158945.07\n",
       "CORNING, INC.                            157400.00\n",
       "MERRILL LYNCH                            149080.16\n",
       "WELLS FARGO                              138067.69\n",
       "GREENBERG TRAURIG LLP                    136442.25\n",
       "KIRKLAND & ELLIS LLP                     129487.62\n",
       "AKIN GUMP STRAUSS HAUER & FELD LLP       128915.00\n",
       "CANTOR FITZGERALD                        121629.55\n",
       "NORTHWESTERN MUTUAL                      118589.16\n",
       "LATHAM & WATKINS LLP                     113481.75\n",
       "BANK OF AMERICA                          109471.86\n",
       "MICROSOFT                                108683.85\n",
       "Name: contb_receipt_amt, dtype: float64"
      ]
     },
     "execution_count": 44,
     "metadata": {},
     "output_type": "execute_result"
    }
   ],
   "source": [
    "non_generic = df[~ df.contbr_employer.isin(generic)]\n",
    "by_emp = non_generic.groupby('contbr_employer')['contb_receipt_amt'].agg(sum)\n",
    "by_emp.order(ascending=False).head(20)"
   ]
  },
  {
   "cell_type": "code",
   "execution_count": 45,
   "metadata": {
    "collapsed": false
   },
   "outputs": [],
   "source": [
    "monthList = ['Jan', 'Feb', 'Mar', 'Apr', 'May', 'Jun', 'Jul', 'Aug','Sep', 'Oct', 'Nov', 'Dec']\n",
    "republicans = df[df.party == 'Republican']\n",
    "republicans = republicans.groupby('month')['contb_receipt_amt'].agg(sum)\n",
    "republicans = republicans[monthList]\n",
    "democrats = df[df.party == 'Democratic']\n",
    "democrats = democrats.groupby('month')['contb_receipt_amt'].agg(sum)\n",
    "democrats = democrats[monthList]"
   ]
  },
  {
   "cell_type": "code",
   "execution_count": 46,
   "metadata": {
    "collapsed": true
   },
   "outputs": [],
   "source": [
    "def market_share(candidates):\n",
    "    #Share of a political party's contributions by candidate\n",
    "    fig = plt.figure()\n",
    "    ax = plt.axes()\n",
    "    for candidate in candidates:\n",
    "        cand = df[df.cand_nm == candidate]\n",
    "        candGroup = cand.groupby('month')['contb_receipt_amt'].agg(sum)\n",
    "        candGroup = candGroup[monthList]\n",
    "        party = parties[candidate]\n",
    "        if party == 'Republican':\n",
    "            share = candGroup / republicans\n",
    "            ax.plot(np.arange(1, 13, 1), share.values, label=candidate.split(' ')[0])\n",
    "        else:\n",
    "            share = candGroup / democrats\n",
    "            ax.plot(np.arange(1, 13, 1), share.values, label=candidate.split(' ')[0])\n",
    "    plt.legend(loc='best')\n",
    "    plt.xticks(np.arange(1, 13, 1), monthList)"
   ]
  },
  {
   "cell_type": "code",
   "execution_count": 47,
   "metadata": {
    "collapsed": false
   },
   "outputs": [
    {
     "data": {
      "image/png": "[encoded data removed]",
      "text/plain": [
       "<matplotlib.figure.Figure at 0xbac0550>"
      ]
     },
     "metadata": {},
     "output_type": "display_data"
    }
   ],
   "source": [
    "market_share(['Jeb Bush', 'Ted Cruz', 'Marco Rubio', 'Rand Paul'])"
   ]
  },
  {
   "cell_type": "code",
   "execution_count": 48,
   "metadata": {
    "collapsed": false
   },
   "outputs": [
    {
     "data": {
      "text/plain": [
       "51"
      ]
     },
     "execution_count": 48,
     "metadata": {},
     "output_type": "execute_result"
    }
   ],
   "source": [
    "state_list = ['IA', 'KS', 'UT', 'VA', 'NC', 'NE', 'SD', 'AL', 'ID', 'DE', 'AK', 'CT', \n",
    "          'NM', 'MS', 'CO', 'NJ', 'FL', 'MN', 'NV', 'AZ', 'WI', 'ND', 'PA', \n",
    "          'OK', 'KY', 'RI', 'NH', 'MO', 'ME', 'VT', 'GA', 'NY', 'CA', 'HI', 'IL', 'TN', \n",
    "          'MA', 'OH', 'MD', 'MI', 'WY', 'WA', 'OR', 'SC', 'IN', 'LA', 'DC', 'MT', 'AR', 'WV', 'TX']\n",
    "len(state_list)"
   ]
  },
  {
   "cell_type": "code",
   "execution_count": 49,
   "metadata": {
    "collapsed": false
   },
   "outputs": [
    {
     "data": {
      "text/plain": [
       "contbr_st\n",
       "CA    43589173.979999\n",
       "TX    35503254.140000\n",
       "NY    31561218.920000\n",
       "FL    24595630.410000\n",
       "NJ     9095262.800000\n",
       "IL     8782929.820000\n",
       "VA     8411876.100000\n",
       "MD     7501050.300000\n",
       "MA     7228235.140000\n",
       "OH     7102103.650000\n",
       "Name: contb_receipt_amt, dtype: float64"
      ]
     },
     "execution_count": 49,
     "metadata": {},
     "output_type": "execute_result"
    }
   ],
   "source": [
    "states = df.groupby('contbr_st')['contb_receipt_amt'].agg(sum)\n",
    "states = states[state_list]\n",
    "states.order(ascending=False).head(10)"
   ]
  },
  {
   "cell_type": "code",
   "execution_count": 50,
   "metadata": {
    "collapsed": true
   },
   "outputs": [],
   "source": [
    "def state_shares(candidate):\n",
    "    party = parties[candidate]\n",
    "    cand = df[(df.cand_nm == candidate)]\n",
    "    by_st = cand.groupby('contbr_st')['contb_receipt_amt'].agg(sum)\n",
    "    states = df[df.party==party].groupby('contbr_st')['contb_receipt_amt'].agg(sum)[state_list]\n",
    "    by_st = by_st[state_list] / states\n",
    "    order_st = by_st.order(ascending=False).head(10)\n",
    "    print order_st"
   ]
  },
  {
   "cell_type": "code",
   "execution_count": 51,
   "metadata": {
    "collapsed": false
   },
   "outputs": [
    {
     "name": "stdout",
     "output_type": "stream",
     "text": [
      "contbr_st\n",
      "VT    0.509427\n",
      "FL    0.316079\n",
      "MA    0.277620\n",
      "AZ    0.261469\n",
      "MT    0.255008\n",
      "CA    0.250859\n",
      "NV    0.232334\n",
      "NY    0.228651\n",
      "DC    0.222297\n",
      "IL    0.221102\n",
      "Name: contb_receipt_amt, dtype: float64\n"
     ]
    }
   ],
   "source": [
    "state_shares('Marco Rubio')"
   ]
  },
  {
   "cell_type": "code",
   "execution_count": 52,
   "metadata": {
    "collapsed": false
   },
   "outputs": [
    {
     "data": {
      "text/html": [
       "<div>\n",
       "<table border=\"1\" class=\"dataframe\">\n",
       "  <thead>\n",
       "    <tr style=\"text-align: right;\">\n",
       "      <th>party</th>\n",
       "      <th>Democratic</th>\n",
       "      <th>Republican</th>\n",
       "    </tr>\n",
       "    <tr>\n",
       "      <th>contbr_st</th>\n",
       "      <th></th>\n",
       "      <th></th>\n",
       "    </tr>\n",
       "  </thead>\n",
       "  <tbody>\n",
       "    <tr>\n",
       "      <th>WY</th>\n",
       "      <td>0.111528</td>\n",
       "      <td>0.888472</td>\n",
       "    </tr>\n",
       "    <tr>\n",
       "      <th>SC</th>\n",
       "      <td>0.150725</td>\n",
       "      <td>0.849275</td>\n",
       "    </tr>\n",
       "    <tr>\n",
       "      <th>TX</th>\n",
       "      <td>0.166927</td>\n",
       "      <td>0.833073</td>\n",
       "    </tr>\n",
       "    <tr>\n",
       "      <th>LA</th>\n",
       "      <td>0.167231</td>\n",
       "      <td>0.832769</td>\n",
       "    </tr>\n",
       "    <tr>\n",
       "      <th>ND</th>\n",
       "      <td>0.173492</td>\n",
       "      <td>0.826508</td>\n",
       "    </tr>\n",
       "    <tr>\n",
       "      <th>MS</th>\n",
       "      <td>0.177449</td>\n",
       "      <td>0.822551</td>\n",
       "    </tr>\n",
       "    <tr>\n",
       "      <th>AL</th>\n",
       "      <td>0.188377</td>\n",
       "      <td>0.811623</td>\n",
       "    </tr>\n",
       "    <tr>\n",
       "      <th>ID</th>\n",
       "      <td>0.189225</td>\n",
       "      <td>0.810775</td>\n",
       "    </tr>\n",
       "    <tr>\n",
       "      <th>OH</th>\n",
       "      <td>0.189456</td>\n",
       "      <td>0.810544</td>\n",
       "    </tr>\n",
       "    <tr>\n",
       "      <th>MT</th>\n",
       "      <td>0.206653</td>\n",
       "      <td>0.793347</td>\n",
       "    </tr>\n",
       "  </tbody>\n",
       "</table>\n",
       "</div>"
      ],
      "text/plain": [
       "party      Democratic  Republican\n",
       "contbr_st                        \n",
       "WY           0.111528    0.888472\n",
       "SC           0.150725    0.849275\n",
       "TX           0.166927    0.833073\n",
       "LA           0.167231    0.832769\n",
       "ND           0.173492    0.826508\n",
       "MS           0.177449    0.822551\n",
       "AL           0.188377    0.811623\n",
       "ID           0.189225    0.810775\n",
       "OH           0.189456    0.810544\n",
       "MT           0.206653    0.793347"
      ]
     },
     "execution_count": 52,
     "metadata": {},
     "output_type": "execute_result"
    }
   ],
   "source": [
    "by_state = df.groupby(['party', 'contbr_st'])\n",
    "state_tot = by_state.contb_receipt_amt.sum().unstack(0).fillna(0)\n",
    "state_tot = state_tot.loc[state_list]\n",
    "state_props = state_tot.div(state_tot.sum(axis=1), axis=0)\n",
    "state_props = state_props.sort('Republican', ascending=False)\n",
    "state_props.head(10)"
   ]
  },
  {
   "cell_type": "code",
   "execution_count": 53,
   "metadata": {
    "collapsed": false
   },
   "outputs": [],
   "source": [
    "df['day'] = df.contb_receipt_dt.apply(lambda x: x.day)\n",
    "df['monthNum'] = df.contb_receipt_dt.apply(lambda x: x.month)"
   ]
  },
  {
   "cell_type": "code",
   "execution_count": 54,
   "metadata": {
    "collapsed": false
   },
   "outputs": [],
   "source": [
    "def heatmap(candidate):\n",
    "    cand = df[df.cand_nm == candidate]\n",
    "    plt.figure(figsize=(10, 10))\n",
    "    ct = cand.groupby(['monthNum', 'day'])['contb_receipt_amt'].agg(sum).reset_index()\n",
    "    plt.imshow(np.array(pd.pivot_table(ct, values='contb_receipt_amt', index='monthNum', columns='day')), cmap='RdBu_r')\n",
    "    plt.xlabel('Day')\n",
    "    plt.ylabel('Month')\n",
    "    plt.title('Heatmap for %s' % candidate)\n",
    "    plt.colorbar()"
   ]
  },
  {
   "cell_type": "code",
   "execution_count": 55,
   "metadata": {
    "collapsed": false
   },
   "outputs": [
    {
     "data": {
      "image/png": "[encoded data removed]",
      "text/plain": [
       "<matplotlib.figure.Figure at 0x15855278>"
      ]
     },
     "metadata": {},
     "output_type": "display_data"
    }
   ],
   "source": [
    "heatmap('Hillary Clinton')"
   ]
  },
  {
   "cell_type": "code",
   "execution_count": 56,
   "metadata": {
    "collapsed": false
   },
   "outputs": [],
   "source": [
    "def best_days(candidate):\n",
    "    hill = df[df.cand_nm == candidate]\n",
    "    hillg = hill.groupby('contb_receipt_dt')['contb_receipt_amt'].agg(sum)\n",
    "    print hillg.order(ascending=False).head(10)"
   ]
  },
  {
   "cell_type": "code",
   "execution_count": 57,
   "metadata": {
    "collapsed": false
   },
   "outputs": [
    {
     "name": "stdout",
     "output_type": "stream",
     "text": [
      "contb_receipt_dt\n",
      "2015-12-31    1598480.29\n",
      "2015-03-31    1405862.00\n",
      "2015-06-30    1169940.66\n",
      "2015-03-23    1087750.33\n",
      "2015-09-30    1084707.79\n",
      "2015-11-30     517628.48\n",
      "2015-09-29     501476.93\n",
      "2015-05-05     466980.00\n",
      "2015-12-30     459811.82\n",
      "2015-12-28     416006.76\n",
      "Name: contb_receipt_amt, dtype: float64\n"
     ]
    }
   ],
   "source": [
    "best_days('Ted Cruz')"
   ]
  },
  {
   "cell_type": "code",
   "execution_count": 58,
   "metadata": {
    "collapsed": true
   },
   "outputs": [],
   "source": [
    "def max_donors(candidate):\n",
    "    #Proportion of a candidate's donations that came from contributors donating the maximum amount\n",
    "    cand = df[df.cand_nm == candidate]\n",
    "    totalReceipts = cand.contb_receipt_amt.sum()\n",
    "    group = cand.groupby('contbr_nm')['contb_receipt_amt'].agg(sum)\n",
    "    maxed = group[group >=2700].sum()\n",
    "    return round(maxed/totalReceipts*100, 2)"
   ]
  },
  {
   "cell_type": "code",
   "execution_count": 59,
   "metadata": {
    "collapsed": false
   },
   "outputs": [],
   "source": [
    "donor_max = []\n",
    "for cand in df.cand_nm.unique():\n",
    "    donor_max.append((cand, max_donors(cand)))\n",
    "sorted_max = sorted(donor_max, key=lambda cand:cand[1], reverse=True)"
   ]
  },
  {
   "cell_type": "code",
   "execution_count": 60,
   "metadata": {
    "collapsed": false
   },
   "outputs": [
    {
     "name": "stdout",
     "output_type": "stream",
     "text": [
      "Bobby Jindal received 84.26% of contributions from maximum contributors.\n",
      "Jeb Bush received 80.94% of contributions from maximum contributors.\n",
      "Chris Christie received 77.97% of contributions from maximum contributors.\n",
      "Rick Perry received 76.25% of contributions from maximum contributors.\n",
      "Hillary Clinton received 74.58% of contributions from maximum contributors.\n",
      "John Kasich received 71.84% of contributions from maximum contributors.\n",
      "George Pataki received 67.42% of contributions from maximum contributors.\n",
      "Scott Walker received 65.92% of contributions from maximum contributors.\n",
      "Lindsey Graham received 64.85% of contributions from maximum contributors.\n",
      "Marco Rubio received 64.55% of contributions from maximum contributors.\n",
      "Martin O'Malley received 62.77% of contributions from maximum contributors.\n",
      "Rick Santorum received 61.04% of contributions from maximum contributors.\n",
      "Ted Cruz received 51.70% of contributions from maximum contributors.\n",
      "Lawrence Lessig received 49.02% of contributions from maximum contributors.\n",
      "Mike Huckabee received 48.17% of contributions from maximum contributors.\n",
      "Carly Fiorina received 37.06% of contributions from maximum contributors.\n",
      "Rand Paul received 36.87% of contributions from maximum contributors.\n",
      "Donald Trump received 36.72% of contributions from maximum contributors.\n",
      "Jim Webb received 26.77% of contributions from maximum contributors.\n",
      "Ben Carson received 23.75% of contributions from maximum contributors.\n",
      "Jill Stein received 13.84% of contributions from maximum contributors.\n",
      "Bernie Sanders received 10.23% of contributions from maximum contributors.\n"
     ]
    }
   ],
   "source": [
    "for cand in sorted_max:\n",
    "    print '%s received %0.2f%% of contributions from maximum contributors.' % (cand[0], cand[1])"
   ]
  },
  {
   "cell_type": "code",
   "execution_count": 61,
   "metadata": {
    "collapsed": true
   },
   "outputs": [],
   "source": [
    "def top_donors(candidate):\n",
    "    cand = df[df.cand_nm == candidate]\n",
    "    group = cand.groupby('contbr_nm')['contb_receipt_amt'].agg(sum)\n",
    "    print group.order(ascending=False).head(10)"
   ]
  },
  {
   "cell_type": "code",
   "execution_count": 63,
   "metadata": {
    "collapsed": false
   },
   "outputs": [
    {
     "name": "stdout",
     "output_type": "stream",
     "text": [
      "contbr_nm\n",
      "PILGRIM, LONNIE A. MR.          28500\n",
      "WHITE, MICHAEL H. MR.           24300\n",
      "SEMNANI, KHOSROW MR.            22700\n",
      "MILLER, GAIL MRS.               22700\n",
      "ANDREWS, BARRY G. MR.           18900\n",
      "ENGSTROM, RANDALL R. MR.        16200\n",
      "KIGER, DAVID R. MR.             14500\n",
      "TATUM, JOHN P. MR. II           13500\n",
      "MICHAELCHECK, PAM MRS.          13500\n",
      "PHILLIPS, WILLIAM T. MR. JR.    13500\n",
      "Name: contb_receipt_amt, dtype: float64\n"
     ]
    }
   ],
   "source": [
    "top_donors(\"Jeb Bush\")"
   ]
  },
  {
   "cell_type": "code",
   "execution_count": null,
   "metadata": {
    "collapsed": false
   },
   "outputs": [],
   "source": []
  },
  {
   "cell_type": "code",
   "execution_count": null,
   "metadata": {
    "collapsed": true
   },
   "outputs": [],
   "source": []
  }
 ],
 "metadata": {
  "kernelspec": {
   "display_name": "Python 2",
   "language": "python",
   "name": "python2"
  },
  "language_info": {
   "codemirror_mode": {
    "name": "ipython",
    "version": 2
   },
   "file_extension": ".py",
   "mimetype": "text/x-python",
   "name": "python",
   "nbconvert_exporter": "python",
   "pygments_lexer": "ipython2",
   "version": "2.7.12"
  }
 },
 "nbformat": 4,
 "nbformat_minor": 0
}
